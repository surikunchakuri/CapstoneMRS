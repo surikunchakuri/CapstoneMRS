{
 "cells": [
  {
   "cell_type": "markdown",
   "id": "a2d442cd",
   "metadata": {},
   "source": [
    "# Advancing Movie Recommendations System Engine: A Novel Hybrid Approach Integrating Collaborative and Content-Based Filtering with Enhanced NLP NER and Sentiment Analysis"
   ]
  },
  {
   "cell_type": "markdown",
   "id": "a5da4d49",
   "metadata": {},
   "source": [
    "# Table of Contents\n",
    "1.Introduction and Methodology <br>\n",
    "2.Data Pre-Processing <br>\n",
    "3.Exploratory Data Analysis (EDA) <br>\n",
    "4.Content-Based Filtering: Genre-based, NLP NER-based, Weighted Average <br>\n",
    "5.Collaborative Filtering: Using SVD, Enhanced with Sentiment Analysis<br>\n",
    "6.Hybrid Recommendation System: Integrating Collaborative & Content-Based Approaches,Compilation of All Recommendation Results<br>\n",
    "7.Experimentation: Collaborative Filtering using RandomForestClassifier for Sentiment Analysis<br>\n",
    "\n"
   ]
  },
  {
   "cell_type": "markdown",
   "id": "ba16d88c",
   "metadata": {},
   "source": [
    "# 1. Introduction & Methodology\n",
    "This Jupyter Notebook documents the process of building a advanced hybrid movie recommendation system. The system integrates collaborative and content-based filtering approaches, enhanced with sentiment analysis and natural language processing. Research objective is to explore various recommendation strategies and evaluate their performance based on a sample dataset.\n",
    "\n",
    "\n",
    "### Methodology\n",
    "The development of this recommendation system involves several stages, each contributing uniquely to the system's overall performance:\n",
    "\n",
    "1. **Data Pre-Processing**: Initial data cleaning, handling missing values, and data structuring for analysis.\n",
    "2. **Exploratory Data Analysis (EDA)**: Gaining insights into the dataset through visual and statistical analysis to inform subsequent modeling choices.\n",
    "3. **Content-Based Filtering**:\n",
    "    - **Genre-based Recommendations**: Leveraging movie genres to recommend similar movies.\n",
    "    - **NLP NER-based Recommendations**: Utilizing Named Entity Recognition (NER) to enhance recommendations based on entities extracted from movie titles.\n",
    "    - **Weighted Average**: Combining genre and NER-based recommendations using a weighted average approach to balance the influence of both methods.\n",
    "4. **Collaborative Filtering**:\n",
    "    - Implementation of Singular Value Decomposition (SVD) for predicting user ratings.\n",
    "    - Enhancement of SVD recommendations by incorporating sentiment analysis, aiming to reflect user sentiment in the recommendations.\n",
    "5. **Hybrid Recommendation System**: Integration of collaborative and content-based filtering to harness the advantages of both approaches, further refined by sentiment analysis.\n",
    "6. **Compilation of Results**: Aggregation of recommendations from various methods into a cohesive table for comparative analysis.\n",
    "7. **Experimentation**: Exploration of alternative methodologies, such as employing a RandomForestClassifier for sentiment analysis, to benchmark and validate the chosen approach.\n",
    "---\n"
   ]
  },
  {
   "cell_type": "markdown",
   "id": "143f6035",
   "metadata": {},
   "source": [
    "## 2. Data Preprocessing\n",
    "In this section, code perform initial data cleaning, handle missing values, and prepare the data for EDA part and further analysis.\n"
   ]
  },
  {
   "cell_type": "code",
   "execution_count": 200,
   "id": "8076de7e",
   "metadata": {},
   "outputs": [],
   "source": [
    "# Import required libraries\n",
    "import pandas as pd\n",
    "import numpy as np\n",
    "import random\n",
    "import matplotlib.pyplot as plt\n",
    "import seaborn as sns\n",
    "from surprise import Reader, Dataset, SVD\n",
    "from sklearn.ensemble import RandomForestClassifier\n",
    "from sklearn.linear_model import LinearRegression\n",
    "from sklearn.metrics.pairwise import cosine_similarity\n",
    "from sklearn.feature_extraction.text import TfidfVectorizer\n",
    "import spacy\n",
    "import gc\n"
   ]
  },
  {
   "cell_type": "code",
   "execution_count": 190,
   "id": "14b050f4",
   "metadata": {},
   "outputs": [],
   "source": [
    "# Load the data\n",
    "movies = pd.read_csv('movies.csv')\n",
    "ratings = pd.read_csv('ratings.csv')"
   ]
  },
  {
   "cell_type": "markdown",
   "id": "635ec1ac",
   "metadata": {},
   "source": [
    "### Read the dataset"
   ]
  },
  {
   "cell_type": "code",
   "execution_count": 167,
   "id": "a8ae6fc1",
   "metadata": {
    "scrolled": true
   },
   "outputs": [
    {
     "data": {
      "text/html": [
       "<div>\n",
       "<style scoped>\n",
       "    .dataframe tbody tr th:only-of-type {\n",
       "        vertical-align: middle;\n",
       "    }\n",
       "\n",
       "    .dataframe tbody tr th {\n",
       "        vertical-align: top;\n",
       "    }\n",
       "\n",
       "    .dataframe thead th {\n",
       "        text-align: right;\n",
       "    }\n",
       "</style>\n",
       "<table border=\"1\" class=\"dataframe\">\n",
       "  <thead>\n",
       "    <tr style=\"text-align: right;\">\n",
       "      <th></th>\n",
       "      <th>movieId</th>\n",
       "      <th>title</th>\n",
       "      <th>genres</th>\n",
       "    </tr>\n",
       "  </thead>\n",
       "  <tbody>\n",
       "    <tr>\n",
       "      <th>0</th>\n",
       "      <td>1</td>\n",
       "      <td>Toy Story (1995)</td>\n",
       "      <td>Adventure|Animation|Children|Comedy|Fantasy</td>\n",
       "    </tr>\n",
       "    <tr>\n",
       "      <th>1</th>\n",
       "      <td>2</td>\n",
       "      <td>Jumanji (1995)</td>\n",
       "      <td>Adventure|Children|Fantasy</td>\n",
       "    </tr>\n",
       "    <tr>\n",
       "      <th>2</th>\n",
       "      <td>3</td>\n",
       "      <td>Grumpier Old Men (1995)</td>\n",
       "      <td>Comedy|Romance</td>\n",
       "    </tr>\n",
       "    <tr>\n",
       "      <th>3</th>\n",
       "      <td>4</td>\n",
       "      <td>Waiting to Exhale (1995)</td>\n",
       "      <td>Comedy|Drama|Romance</td>\n",
       "    </tr>\n",
       "    <tr>\n",
       "      <th>4</th>\n",
       "      <td>5</td>\n",
       "      <td>Father of the Bride Part II (1995)</td>\n",
       "      <td>Comedy</td>\n",
       "    </tr>\n",
       "  </tbody>\n",
       "</table>\n",
       "</div>"
      ],
      "text/plain": [
       "   movieId                               title  \\\n",
       "0        1                    Toy Story (1995)   \n",
       "1        2                      Jumanji (1995)   \n",
       "2        3             Grumpier Old Men (1995)   \n",
       "3        4            Waiting to Exhale (1995)   \n",
       "4        5  Father of the Bride Part II (1995)   \n",
       "\n",
       "                                        genres  \n",
       "0  Adventure|Animation|Children|Comedy|Fantasy  \n",
       "1                   Adventure|Children|Fantasy  \n",
       "2                               Comedy|Romance  \n",
       "3                         Comedy|Drama|Romance  \n",
       "4                                       Comedy  "
      ]
     },
     "execution_count": 167,
     "metadata": {},
     "output_type": "execute_result"
    }
   ],
   "source": [
    "movies.head()"
   ]
  },
  {
   "cell_type": "code",
   "execution_count": 168,
   "id": "69852c3f",
   "metadata": {},
   "outputs": [
    {
     "data": {
      "text/html": [
       "<div>\n",
       "<style scoped>\n",
       "    .dataframe tbody tr th:only-of-type {\n",
       "        vertical-align: middle;\n",
       "    }\n",
       "\n",
       "    .dataframe tbody tr th {\n",
       "        vertical-align: top;\n",
       "    }\n",
       "\n",
       "    .dataframe thead th {\n",
       "        text-align: right;\n",
       "    }\n",
       "</style>\n",
       "<table border=\"1\" class=\"dataframe\">\n",
       "  <thead>\n",
       "    <tr style=\"text-align: right;\">\n",
       "      <th></th>\n",
       "      <th>userId</th>\n",
       "      <th>movieId</th>\n",
       "      <th>rating</th>\n",
       "      <th>timestamp</th>\n",
       "    </tr>\n",
       "  </thead>\n",
       "  <tbody>\n",
       "    <tr>\n",
       "      <th>0</th>\n",
       "      <td>1</td>\n",
       "      <td>296</td>\n",
       "      <td>5.0</td>\n",
       "      <td>1147880044</td>\n",
       "    </tr>\n",
       "    <tr>\n",
       "      <th>1</th>\n",
       "      <td>1</td>\n",
       "      <td>306</td>\n",
       "      <td>3.5</td>\n",
       "      <td>1147868817</td>\n",
       "    </tr>\n",
       "    <tr>\n",
       "      <th>2</th>\n",
       "      <td>1</td>\n",
       "      <td>307</td>\n",
       "      <td>5.0</td>\n",
       "      <td>1147868828</td>\n",
       "    </tr>\n",
       "    <tr>\n",
       "      <th>3</th>\n",
       "      <td>1</td>\n",
       "      <td>665</td>\n",
       "      <td>5.0</td>\n",
       "      <td>1147878820</td>\n",
       "    </tr>\n",
       "    <tr>\n",
       "      <th>4</th>\n",
       "      <td>1</td>\n",
       "      <td>899</td>\n",
       "      <td>3.5</td>\n",
       "      <td>1147868510</td>\n",
       "    </tr>\n",
       "  </tbody>\n",
       "</table>\n",
       "</div>"
      ],
      "text/plain": [
       "   userId  movieId  rating   timestamp\n",
       "0       1      296     5.0  1147880044\n",
       "1       1      306     3.5  1147868817\n",
       "2       1      307     5.0  1147868828\n",
       "3       1      665     5.0  1147878820\n",
       "4       1      899     3.5  1147868510"
      ]
     },
     "execution_count": 168,
     "metadata": {},
     "output_type": "execute_result"
    }
   ],
   "source": [
    "ratings.head()"
   ]
  },
  {
   "cell_type": "code",
   "execution_count": 169,
   "id": "12686aac",
   "metadata": {},
   "outputs": [],
   "source": [
    "def info(dataset, name):\n",
    "  print(\"Dataset Name: \", name)\n",
    "  print(f\"Number of Rows: {dataset.shape[0]}\")\n",
    "  print(f\"Number of Columns: {dataset.shape[1]}\")\n",
    "  print(f\"Number of observations: {dataset.shape[0]*dataset.shape[1]}\")\n",
    "  print(\"Datatypes of all variables:\")\n",
    "  dataset.info()"
   ]
  },
  {
   "cell_type": "code",
   "execution_count": 170,
   "id": "f04e7d7c",
   "metadata": {},
   "outputs": [
    {
     "name": "stdout",
     "output_type": "stream",
     "text": [
      "Dataset Name:  movies\n",
      "Number of Rows: 62423\n",
      "Number of Columns: 3\n",
      "Number of observations: 187269\n",
      "Datatypes of all variables:\n",
      "<class 'pandas.core.frame.DataFrame'>\n",
      "RangeIndex: 62423 entries, 0 to 62422\n",
      "Data columns (total 3 columns):\n",
      " #   Column   Non-Null Count  Dtype \n",
      "---  ------   --------------  ----- \n",
      " 0   movieId  62423 non-null  int64 \n",
      " 1   title    62423 non-null  object\n",
      " 2   genres   62423 non-null  object\n",
      "dtypes: int64(1), object(2)\n",
      "memory usage: 1.4+ MB\n"
     ]
    }
   ],
   "source": [
    "info(movies, 'movies')"
   ]
  },
  {
   "cell_type": "code",
   "execution_count": 171,
   "id": "ed734560",
   "metadata": {
    "scrolled": true
   },
   "outputs": [
    {
     "name": "stdout",
     "output_type": "stream",
     "text": [
      "Dataset Name:  ratings\n",
      "Number of Rows: 25000095\n",
      "Number of Columns: 4\n",
      "Number of observations: 100000380\n",
      "Datatypes of all variables:\n",
      "<class 'pandas.core.frame.DataFrame'>\n",
      "RangeIndex: 25000095 entries, 0 to 25000094\n",
      "Data columns (total 4 columns):\n",
      " #   Column     Dtype  \n",
      "---  ------     -----  \n",
      " 0   userId     int64  \n",
      " 1   movieId    int64  \n",
      " 2   rating     float64\n",
      " 3   timestamp  int64  \n",
      "dtypes: float64(1), int64(3)\n",
      "memory usage: 762.9 MB\n"
     ]
    }
   ],
   "source": [
    "info(ratings, 'ratings')"
   ]
  },
  {
   "cell_type": "markdown",
   "id": "c235ad21",
   "metadata": {},
   "source": [
    "### **Combination of the dataset for EDA**"
   ]
  },
  {
   "cell_type": "code",
   "execution_count": 172,
   "id": "1bdfa784",
   "metadata": {},
   "outputs": [],
   "source": [
    "# Combine datasets for EDA\n",
    "combined_data = pd.merge(movies, ratings, on='movieId')"
   ]
  },
  {
   "cell_type": "code",
   "execution_count": 173,
   "id": "9a81545e",
   "metadata": {},
   "outputs": [
    {
     "name": "stdout",
     "output_type": "stream",
     "text": [
      "Dataset Name:  combined_data\n",
      "Number of Rows: 25000095\n",
      "Number of Columns: 6\n",
      "Number of observations: 150000570\n",
      "Datatypes of all variables:\n",
      "<class 'pandas.core.frame.DataFrame'>\n",
      "Int64Index: 25000095 entries, 0 to 25000094\n",
      "Data columns (total 6 columns):\n",
      " #   Column     Dtype  \n",
      "---  ------     -----  \n",
      " 0   movieId    int64  \n",
      " 1   title      object \n",
      " 2   genres     object \n",
      " 3   userId     int64  \n",
      " 4   rating     float64\n",
      " 5   timestamp  int64  \n",
      "dtypes: float64(1), int64(3), object(2)\n",
      "memory usage: 1.3+ GB\n"
     ]
    }
   ],
   "source": [
    "info(combined_data, 'combined_data')"
   ]
  },
  {
   "cell_type": "code",
   "execution_count": 202,
   "id": "a215757f",
   "metadata": {
    "scrolled": true
   },
   "outputs": [
    {
     "data": {
      "text/html": [
       "<div>\n",
       "<style scoped>\n",
       "    .dataframe tbody tr th:only-of-type {\n",
       "        vertical-align: middle;\n",
       "    }\n",
       "\n",
       "    .dataframe tbody tr th {\n",
       "        vertical-align: top;\n",
       "    }\n",
       "\n",
       "    .dataframe thead th {\n",
       "        text-align: right;\n",
       "    }\n",
       "</style>\n",
       "<table border=\"1\" class=\"dataframe\">\n",
       "  <thead>\n",
       "    <tr style=\"text-align: right;\">\n",
       "      <th></th>\n",
       "      <th>movieId</th>\n",
       "      <th>title</th>\n",
       "      <th>genres</th>\n",
       "      <th>userId</th>\n",
       "      <th>rating</th>\n",
       "      <th>timestamp</th>\n",
       "    </tr>\n",
       "  </thead>\n",
       "  <tbody>\n",
       "    <tr>\n",
       "      <th>0</th>\n",
       "      <td>1</td>\n",
       "      <td>Toy Story (1995)</td>\n",
       "      <td>Adventure|Animation|Children|Comedy|Fantasy</td>\n",
       "      <td>2</td>\n",
       "      <td>3.5</td>\n",
       "      <td>1141415820</td>\n",
       "    </tr>\n",
       "    <tr>\n",
       "      <th>1</th>\n",
       "      <td>1</td>\n",
       "      <td>Toy Story (1995)</td>\n",
       "      <td>Adventure|Animation|Children|Comedy|Fantasy</td>\n",
       "      <td>3</td>\n",
       "      <td>4.0</td>\n",
       "      <td>1439472215</td>\n",
       "    </tr>\n",
       "    <tr>\n",
       "      <th>2</th>\n",
       "      <td>1</td>\n",
       "      <td>Toy Story (1995)</td>\n",
       "      <td>Adventure|Animation|Children|Comedy|Fantasy</td>\n",
       "      <td>4</td>\n",
       "      <td>3.0</td>\n",
       "      <td>1573944252</td>\n",
       "    </tr>\n",
       "    <tr>\n",
       "      <th>3</th>\n",
       "      <td>1</td>\n",
       "      <td>Toy Story (1995)</td>\n",
       "      <td>Adventure|Animation|Children|Comedy|Fantasy</td>\n",
       "      <td>5</td>\n",
       "      <td>4.0</td>\n",
       "      <td>858625949</td>\n",
       "    </tr>\n",
       "    <tr>\n",
       "      <th>4</th>\n",
       "      <td>1</td>\n",
       "      <td>Toy Story (1995)</td>\n",
       "      <td>Adventure|Animation|Children|Comedy|Fantasy</td>\n",
       "      <td>8</td>\n",
       "      <td>4.0</td>\n",
       "      <td>890492517</td>\n",
       "    </tr>\n",
       "    <tr>\n",
       "      <th>5</th>\n",
       "      <td>1</td>\n",
       "      <td>Toy Story (1995)</td>\n",
       "      <td>Adventure|Animation|Children|Comedy|Fantasy</td>\n",
       "      <td>10</td>\n",
       "      <td>3.5</td>\n",
       "      <td>1227571347</td>\n",
       "    </tr>\n",
       "    <tr>\n",
       "      <th>6</th>\n",
       "      <td>1</td>\n",
       "      <td>Toy Story (1995)</td>\n",
       "      <td>Adventure|Animation|Children|Comedy|Fantasy</td>\n",
       "      <td>12</td>\n",
       "      <td>4.0</td>\n",
       "      <td>1167582601</td>\n",
       "    </tr>\n",
       "    <tr>\n",
       "      <th>7</th>\n",
       "      <td>1</td>\n",
       "      <td>Toy Story (1995)</td>\n",
       "      <td>Adventure|Animation|Children|Comedy|Fantasy</td>\n",
       "      <td>13</td>\n",
       "      <td>4.0</td>\n",
       "      <td>1265223970</td>\n",
       "    </tr>\n",
       "    <tr>\n",
       "      <th>8</th>\n",
       "      <td>1</td>\n",
       "      <td>Toy Story (1995)</td>\n",
       "      <td>Adventure|Animation|Children|Comedy|Fantasy</td>\n",
       "      <td>18</td>\n",
       "      <td>3.0</td>\n",
       "      <td>1108273483</td>\n",
       "    </tr>\n",
       "    <tr>\n",
       "      <th>9</th>\n",
       "      <td>1</td>\n",
       "      <td>Toy Story (1995)</td>\n",
       "      <td>Adventure|Animation|Children|Comedy|Fantasy</td>\n",
       "      <td>26</td>\n",
       "      <td>3.0</td>\n",
       "      <td>1280515839</td>\n",
       "    </tr>\n",
       "  </tbody>\n",
       "</table>\n",
       "</div>"
      ],
      "text/plain": [
       "   movieId             title                                       genres  \\\n",
       "0        1  Toy Story (1995)  Adventure|Animation|Children|Comedy|Fantasy   \n",
       "1        1  Toy Story (1995)  Adventure|Animation|Children|Comedy|Fantasy   \n",
       "2        1  Toy Story (1995)  Adventure|Animation|Children|Comedy|Fantasy   \n",
       "3        1  Toy Story (1995)  Adventure|Animation|Children|Comedy|Fantasy   \n",
       "4        1  Toy Story (1995)  Adventure|Animation|Children|Comedy|Fantasy   \n",
       "5        1  Toy Story (1995)  Adventure|Animation|Children|Comedy|Fantasy   \n",
       "6        1  Toy Story (1995)  Adventure|Animation|Children|Comedy|Fantasy   \n",
       "7        1  Toy Story (1995)  Adventure|Animation|Children|Comedy|Fantasy   \n",
       "8        1  Toy Story (1995)  Adventure|Animation|Children|Comedy|Fantasy   \n",
       "9        1  Toy Story (1995)  Adventure|Animation|Children|Comedy|Fantasy   \n",
       "\n",
       "   userId  rating   timestamp  \n",
       "0       2     3.5  1141415820  \n",
       "1       3     4.0  1439472215  \n",
       "2       4     3.0  1573944252  \n",
       "3       5     4.0   858625949  \n",
       "4       8     4.0   890492517  \n",
       "5      10     3.5  1227571347  \n",
       "6      12     4.0  1167582601  \n",
       "7      13     4.0  1265223970  \n",
       "8      18     3.0  1108273483  \n",
       "9      26     3.0  1280515839  "
      ]
     },
     "execution_count": 202,
     "metadata": {},
     "output_type": "execute_result"
    }
   ],
   "source": [
    "combined_data.head(10)"
   ]
  },
  {
   "cell_type": "markdown",
   "id": "3fb2d192",
   "metadata": {},
   "source": [
    "### **Check for null values in the combined dataset**"
   ]
  },
  {
   "cell_type": "code",
   "execution_count": 175,
   "id": "cb2f3e5e",
   "metadata": {
    "scrolled": true
   },
   "outputs": [
    {
     "data": {
      "text/plain": [
       "userId       0\n",
       "movieId      0\n",
       "rating       0\n",
       "timestamp    0\n",
       "dtype: int64"
      ]
     },
     "execution_count": 175,
     "metadata": {},
     "output_type": "execute_result"
    }
   ],
   "source": [
    "ratings.isnull().sum()"
   ]
  },
  {
   "cell_type": "code",
   "execution_count": 176,
   "id": "9bcd2704",
   "metadata": {
    "scrolled": false
   },
   "outputs": [
    {
     "data": {
      "text/plain": [
       "movieId    0\n",
       "title      0\n",
       "genres     0\n",
       "dtype: int64"
      ]
     },
     "execution_count": 176,
     "metadata": {},
     "output_type": "execute_result"
    }
   ],
   "source": [
    "movies.isnull().sum()"
   ]
  },
  {
   "cell_type": "code",
   "execution_count": 177,
   "id": "803da741",
   "metadata": {
    "scrolled": true
   },
   "outputs": [
    {
     "data": {
      "text/plain": [
       "movieId      0\n",
       "title        0\n",
       "genres       0\n",
       "userId       0\n",
       "rating       0\n",
       "timestamp    0\n",
       "dtype: int64"
      ]
     },
     "execution_count": 177,
     "metadata": {},
     "output_type": "execute_result"
    }
   ],
   "source": [
    "combined_data.isnull().sum()"
   ]
  },
  {
   "cell_type": "code",
   "execution_count": 178,
   "id": "80b145ed",
   "metadata": {
    "scrolled": true
   },
   "outputs": [
    {
     "data": {
      "text/plain": [
       "movieId        int64\n",
       "title         object\n",
       "genres        object\n",
       "userId         int64\n",
       "rating       float64\n",
       "timestamp      int64\n",
       "dtype: object"
      ]
     },
     "execution_count": 178,
     "metadata": {},
     "output_type": "execute_result"
    }
   ],
   "source": [
    "combined_data.dtypes"
   ]
  },
  {
   "cell_type": "markdown",
   "id": "f77ba28b",
   "metadata": {},
   "source": [
    "## 3. **Exploratory Data Analysis (EDA)**"
   ]
  },
  {
   "cell_type": "code",
   "execution_count": 179,
   "id": "607dbd58",
   "metadata": {},
   "outputs": [
    {
     "data": {
      "text/html": [
       "<div>\n",
       "<style scoped>\n",
       "    .dataframe tbody tr th:only-of-type {\n",
       "        vertical-align: middle;\n",
       "    }\n",
       "\n",
       "    .dataframe tbody tr th {\n",
       "        vertical-align: top;\n",
       "    }\n",
       "\n",
       "    .dataframe thead th {\n",
       "        text-align: right;\n",
       "    }\n",
       "</style>\n",
       "<table border=\"1\" class=\"dataframe\">\n",
       "  <thead>\n",
       "    <tr style=\"text-align: right;\">\n",
       "      <th></th>\n",
       "      <th>movieId</th>\n",
       "      <th>userId</th>\n",
       "      <th>rating</th>\n",
       "      <th>timestamp</th>\n",
       "    </tr>\n",
       "  </thead>\n",
       "  <tbody>\n",
       "    <tr>\n",
       "      <th>count</th>\n",
       "      <td>2.500010e+07</td>\n",
       "      <td>2.500010e+07</td>\n",
       "      <td>2.500010e+07</td>\n",
       "      <td>2.500010e+07</td>\n",
       "    </tr>\n",
       "    <tr>\n",
       "      <th>mean</th>\n",
       "      <td>2.138798e+04</td>\n",
       "      <td>8.118928e+04</td>\n",
       "      <td>3.533854e+00</td>\n",
       "      <td>1.215601e+09</td>\n",
       "    </tr>\n",
       "    <tr>\n",
       "      <th>std</th>\n",
       "      <td>3.919886e+04</td>\n",
       "      <td>4.679172e+04</td>\n",
       "      <td>1.060744e+00</td>\n",
       "      <td>2.268758e+08</td>\n",
       "    </tr>\n",
       "    <tr>\n",
       "      <th>min</th>\n",
       "      <td>1.000000e+00</td>\n",
       "      <td>1.000000e+00</td>\n",
       "      <td>5.000000e-01</td>\n",
       "      <td>7.896520e+08</td>\n",
       "    </tr>\n",
       "    <tr>\n",
       "      <th>25%</th>\n",
       "      <td>1.196000e+03</td>\n",
       "      <td>4.051000e+04</td>\n",
       "      <td>3.000000e+00</td>\n",
       "      <td>1.011747e+09</td>\n",
       "    </tr>\n",
       "    <tr>\n",
       "      <th>50%</th>\n",
       "      <td>2.947000e+03</td>\n",
       "      <td>8.091400e+04</td>\n",
       "      <td>3.500000e+00</td>\n",
       "      <td>1.198868e+09</td>\n",
       "    </tr>\n",
       "    <tr>\n",
       "      <th>75%</th>\n",
       "      <td>8.623000e+03</td>\n",
       "      <td>1.215570e+05</td>\n",
       "      <td>4.000000e+00</td>\n",
       "      <td>1.447205e+09</td>\n",
       "    </tr>\n",
       "    <tr>\n",
       "      <th>max</th>\n",
       "      <td>2.091710e+05</td>\n",
       "      <td>1.625410e+05</td>\n",
       "      <td>5.000000e+00</td>\n",
       "      <td>1.574328e+09</td>\n",
       "    </tr>\n",
       "  </tbody>\n",
       "</table>\n",
       "</div>"
      ],
      "text/plain": [
       "            movieId        userId        rating     timestamp\n",
       "count  2.500010e+07  2.500010e+07  2.500010e+07  2.500010e+07\n",
       "mean   2.138798e+04  8.118928e+04  3.533854e+00  1.215601e+09\n",
       "std    3.919886e+04  4.679172e+04  1.060744e+00  2.268758e+08\n",
       "min    1.000000e+00  1.000000e+00  5.000000e-01  7.896520e+08\n",
       "25%    1.196000e+03  4.051000e+04  3.000000e+00  1.011747e+09\n",
       "50%    2.947000e+03  8.091400e+04  3.500000e+00  1.198868e+09\n",
       "75%    8.623000e+03  1.215570e+05  4.000000e+00  1.447205e+09\n",
       "max    2.091710e+05  1.625410e+05  5.000000e+00  1.574328e+09"
      ]
     },
     "execution_count": 179,
     "metadata": {},
     "output_type": "execute_result"
    }
   ],
   "source": [
    "combined_data.describe()"
   ]
  },
  {
   "cell_type": "markdown",
   "id": "0f02646a",
   "metadata": {},
   "source": [
    "**1. Question: What is the distribution of movie ratings?**"
   ]
  },
  {
   "cell_type": "code",
   "execution_count": 184,
   "id": "b9078d25",
   "metadata": {},
   "outputs": [
    {
     "data": {
      "image/png": "[encoded data removed]",
      "text/plain": [
       "<Figure size 720x432 with 1 Axes>"
      ]
     },
     "metadata": {
      "needs_background": "light"
     },
     "output_type": "display_data"
    }
   ],
   "source": [
    "plt.figure(figsize=(10, 6))\n",
    "sns.histplot(combined_data['rating'], bins=5, kde=True)\n",
    "plt.title('Distribution of Movie Ratings')\n",
    "plt.xlabel('Rating')\n",
    "plt.ylabel('Frequency')\n",
    "plt.show()"
   ]
  },
  {
   "cell_type": "markdown",
   "id": "f01c1f8e",
   "metadata": {},
   "source": [
    "**2. Question: How many movies are there in each genre?**"
   ]
  },
  {
   "cell_type": "code",
   "execution_count": 185,
   "id": "16e91e80",
   "metadata": {},
   "outputs": [
    {
     "data": {
      "image/png": "[encoded data removed]",
      "text/plain": [
       "<Figure size 864x576 with 1 Axes>"
      ]
     },
     "metadata": {
      "needs_background": "light"
     },
     "output_type": "display_data"
    }
   ],
   "source": [
    "# Count the number of movies in each genre\n",
    "genre_data = combined_data['genres'].iloc[0:100000]\n",
    "genre_counts = genre_data.str.split('|', expand=True).stack().value_counts()\n",
    "\n",
    "# Visualize the number of movies in each genre\n",
    "plt.figure(figsize=(12, 8))\n",
    "genre_counts.plot(kind='bar', color='skyblue')\n",
    "plt.title('Number of Movies in Each Genre')\n",
    "plt.xlabel('Genre')\n",
    "plt.ylabel('Number of Movies')\n",
    "plt.show()"
   ]
  },
  {
   "cell_type": "markdown",
   "id": "be53c591",
   "metadata": {},
   "source": [
    "**3. Question: What are the top 10 most rated movies?**"
   ]
  },
  {
   "cell_type": "code",
   "execution_count": 186,
   "id": "b35f3227",
   "metadata": {},
   "outputs": [
    {
     "data": {
      "image/png": "[encoded data removed]",
      "text/plain": [
       "<Figure size 864x576 with 1 Axes>"
      ]
     },
     "metadata": {
      "needs_background": "light"
     },
     "output_type": "display_data"
    }
   ],
   "source": [
    "# Find the top 10 most rated movies\n",
    "top_rated_movies = combined_data.groupby('title')['rating'].count().sort_values(ascending=False).head(10)\n",
    "\n",
    "# Visualize the top 10 most rated movies\n",
    "plt.figure(figsize=(12, 8))\n",
    "top_rated_movies.plot(kind='bar', color='salmon')\n",
    "plt.title('Top 10 Most Rated Movies')\n",
    "plt.xlabel('Movie Title')\n",
    "plt.ylabel('Number of Ratings')\n",
    "plt.show()"
   ]
  },
  {
   "cell_type": "markdown",
   "id": "18952a92",
   "metadata": {},
   "source": [
    "**4. How does the average rating vary with the number of ratings received by a movie?**"
   ]
  },
  {
   "cell_type": "code",
   "execution_count": 187,
   "id": "fb9bab78",
   "metadata": {},
   "outputs": [
    {
     "data": {
      "image/png": "[encoded data removed]",
      "text/plain": [
       "<Figure size 864x576 with 1 Axes>"
      ]
     },
     "metadata": {
      "needs_background": "light"
     },
     "output_type": "display_data"
    }
   ],
   "source": [
    "ratings_count = combined_data.groupby('title')['rating'].count()\n",
    "\n",
    "avg_rating = combined_data.groupby('title')['rating'].mean()\n",
    "\n",
    "plt.figure(figsize=(12, 8))\n",
    "sns.scatterplot(x=ratings_count, y=avg_rating, color='purple')\n",
    "plt.title('Average Rating vs. Number of Ratings')\n",
    "plt.xlabel('Number of Ratings')\n",
    "plt.ylabel('Average Rating')\n",
    "plt.show()"
   ]
  },
  {
   "cell_type": "markdown",
   "id": "c091b5d2",
   "metadata": {},
   "source": [
    "## **4.Content-Based Filtering: Genre-based, NLP NER-based, Weighted Average**"
   ]
  },
  {
   "cell_type": "markdown",
   "id": "0a2e0b88",
   "metadata": {},
   "source": [
    "This section delves into the mechanisms of content-based filtering, leveraging genres and Named Entity Recognition (NER) via Natural Language Processing (NLP) to curate personalized movie recommendations. The process involves two distinct strategies:\n",
    "\n",
    "Genre-based Recommendations: This approach utilizes the genres associated with each movie to compute similarities and generate recommendations. By transforming genre labels into TF-IDF (Term Frequency-Inverse Document Frequency) features, we establish a cosine similarity matrix that serves as the basis for identifying movies with comparable genre compositions.\n",
    "\n",
    "NER-based Recommendations: This method employs NLP to extract named entities from movie titles, providing another layer of content-based filtering. By analyzing these entities, we can uncover subtle connections between movies beyond their genre classifications.\n",
    "\n",
    "The notebook then introduces a weighted average technique to amalgamate genre-based and NER-based recommendations, striking a balance between the two for a more nuanced recommendation list."
   ]
  },
  {
   "cell_type": "code",
   "execution_count": 3,
   "id": "471049ca",
   "metadata": {},
   "outputs": [],
   "source": [
    "# Define function for genre-based recommendations\n",
    "def content_based_recommendations_genres(movie_index, cosine_sim, n=10):\n",
    "    \n",
    "    sim_scores = list(enumerate(cosine_sim[movie_index]))\n",
    "    sim_scores = sorted(sim_scores, key=lambda x: x[1], reverse=True)\n",
    "    sim_scores = sim_scores[1:n+1]  # Exclude self\n",
    "    movie_indices = [i[0] for i in sim_scores]\n",
    "    return movies.iloc[movie_indices][['title', 'genres']]"
   ]
  },
  {
   "cell_type": "code",
   "execution_count": 4,
   "id": "d17879b5",
   "metadata": {},
   "outputs": [],
   "source": [
    "# Convert genres to TF-IDF features and calculate cosine similarity matrix\n",
    "tfidf_vectorizer = TfidfVectorizer(token_pattern='(?u)\\\\b\\\\w+\\\\b')\n",
    "tfidf_matrix = tfidf_vectorizer.fit_transform(movies['genres'])\n",
    "cosine_sim_genres = cosine_similarity(tfidf_matrix, tfidf_matrix)"
   ]
  },
  {
   "cell_type": "code",
   "execution_count": 5,
   "id": "703c7c16",
   "metadata": {},
   "outputs": [],
   "source": [
    "# Define function for NER-based recommendations\n",
    "nlp = spacy.load('en_core_web_sm')  # Load SpaCy English model\n",
    "def extract_named_entities(title):\n",
    "    doc = nlp(title)\n",
    "    return ' '.join([ent.text for ent in doc.ents])"
   ]
  },
  {
   "cell_type": "code",
   "execution_count": 6,
   "id": "369cda2a",
   "metadata": {},
   "outputs": [],
   "source": [
    "# Apply NER function to the movies dataset\n",
    "temp_movies = movies.copy()\n",
    "temp_movies['title_entities'] = temp_movies['title'].apply(extract_named_entities)"
   ]
  },
  {
   "cell_type": "code",
   "execution_count": 7,
   "id": "4d7dab49",
   "metadata": {},
   "outputs": [],
   "source": [
    "# Convert named entities to TF-IDF features and calculate cosine similarity matrix\n",
    "tfidf_vectorizer_entities = TfidfVectorizer()\n",
    "tfidf_matrix_entities = tfidf_vectorizer_entities.fit_transform(temp_movies['title_entities'])\n",
    "cosine_sim_entities = cosine_similarity(tfidf_matrix_entities, tfidf_matrix_entities)\n"
   ]
  },
  {
   "cell_type": "code",
   "execution_count": 8,
   "id": "b443d44f",
   "metadata": {},
   "outputs": [],
   "source": [
    "# Define function to generate recommendations based on NER\n",
    "def content_based_recommendations_entities(movie_index, cosine_sim, n=10):\n",
    "    sim_scores = list(enumerate(cosine_sim[movie_index]))\n",
    "    sim_scores = sorted(sim_scores, key=lambda x: x[1], reverse=True)\n",
    "    sim_scores = sim_scores[1:n+1]  # Exclude self\n",
    "    movie_indices = [i[0] for i in sim_scores]\n",
    "    return temp_movies.iloc[movie_indices][['title', 'title_entities']]"
   ]
  },
  {
   "cell_type": "code",
   "execution_count": 129,
   "id": "c3bf680d",
   "metadata": {},
   "outputs": [],
   "source": [
    "# Function to combine genre and NER recommendations with weights\n",
    "def weighted_combined_recommendations(movie_index, cosine_sim_genres, cosine_sim_ner, movies, temp_movies, weight_genre=0.8, weight_ner=0.2, n=10):\n",
    "    # Genre-based recommendations\n",
    "    genre_indices = content_based_recommendations_genres(movie_index, cosine_sim_genres, n*2).index\n",
    "    \n",
    "    # NER-based recommendations\n",
    "    ner_indices = content_based_recommendations_entities(movie_index, cosine_sim_ner, n).index\n",
    "    \n",
    "    # Initialize dictionary to keep track of scores\n",
    "    combined_scores = {}\n",
    "    \n",
    "    # Assign scores based on genre similarity\n",
    "    for idx in genre_indices:\n",
    "        combined_scores[idx] = combined_scores.get(idx, 0) + weight_genre\n",
    "    \n",
    "    # Update scores based on NER similarity\n",
    "    for idx in ner_indices:\n",
    "        if idx in combined_scores:\n",
    "            # If the movie is already recommended by genre, enhance its score\n",
    "            combined_scores[idx] += weight_ner\n",
    "        else:\n",
    "            # If not, add it with the NER weight\n",
    "            combined_scores[idx] = weight_ner\n",
    "    \n",
    "    # Sort movies by combined score\n",
    "    sorted_scores = sorted(combined_scores.items(), key=lambda x: x[1], reverse=True)\n",
    "    \n",
    "    # Select top n movies\n",
    "    top_indices = [idx for idx, score in sorted_scores[:n]]\n",
    "    \n",
    "    # Fetch top movies from the original movies DataFrame\n",
    "    top_movies = movies.loc[top_indices]\n",
    "    \n",
    "    return top_movies[['movieId', 'title', 'genres']]\n"
   ]
  },
  {
   "cell_type": "code",
   "execution_count": 130,
   "id": "09110e1a",
   "metadata": {},
   "outputs": [
    {
     "name": "stdout",
     "output_type": "stream",
     "text": [
      "Recommendations based on genres:\n",
      "                                                   title  \\\n",
      "2203                                         Antz (1998)   \n",
      "3021                                  Toy Story 2 (1999)   \n",
      "3653      Adventures of Rocky and Bullwinkle, The (2000)   \n",
      "3912                    Emperor's New Groove, The (2000)   \n",
      "4780                               Monsters, Inc. (2001)   \n",
      "9949   DuckTales: The Movie - Treasure of the Lost La...   \n",
      "10773                                   Wild, The (2006)   \n",
      "11604                             Shrek the Third (2007)   \n",
      "12969                     Tale of Despereaux, The (2008)   \n",
      "17431  Asterix and the Vikings (Astérix et les Viking...   \n",
      "\n",
      "                                            genres  \n",
      "2203   Adventure|Animation|Children|Comedy|Fantasy  \n",
      "3021   Adventure|Animation|Children|Comedy|Fantasy  \n",
      "3653   Adventure|Animation|Children|Comedy|Fantasy  \n",
      "3912   Adventure|Animation|Children|Comedy|Fantasy  \n",
      "4780   Adventure|Animation|Children|Comedy|Fantasy  \n",
      "9949   Adventure|Animation|Children|Comedy|Fantasy  \n",
      "10773  Adventure|Animation|Children|Comedy|Fantasy  \n",
      "11604  Adventure|Animation|Children|Comedy|Fantasy  \n",
      "12969  Adventure|Animation|Children|Comedy|Fantasy  \n",
      "17431  Adventure|Animation|Children|Comedy|Fantasy  \n"
     ]
    }
   ],
   "source": [
    "movie_index = 0  # Index of a sample movie\n",
    "\n",
    "# Recommendations based on genres\n",
    "genre_recommendations = content_based_recommendations_genres(movie_index, cosine_sim_genres)\n",
    "print(\"Recommendations based on genres:\")\n",
    "print(genre_recommendations)"
   ]
  },
  {
   "cell_type": "code",
   "execution_count": 131,
   "id": "d1aa6071",
   "metadata": {},
   "outputs": [
    {
     "name": "stdout",
     "output_type": "stream",
     "text": [
      "Recommendations based on NER extracted from titles:\n",
      "                                         title        title_entities\n",
      "24064        Toy Story That Time Forgot (2014)        Toy Story 2014\n",
      "22634        Toy Story Toons: Small Fry (2011)       Toy Story Toons\n",
      "24062  Toy Story Toons: Partysaurus Rex (2012)  Toy Story Toons 2012\n",
      "33603                       Toy Masters (2014)      Toy Masters 2014\n",
      "40614                       The Toy Box (1971)      The Toy Box 1971\n",
      "24693                      The Toy Wife (1938)     The Toy Wife 1938\n",
      "3                     Waiting to Exhale (1995)                  1995\n",
      "5                                  Heat (1995)                  1995\n",
      "15                               Casino (1995)                  1995\n",
      "19                          Money Train (1995)                  1995\n"
     ]
    }
   ],
   "source": [
    "movie_index = 0  # Index of a sample movie from the original 'movies' DataFrame\n",
    "\n",
    "# Recommendations based on NER (using the temporary dataset)\n",
    "ner_recommendations = content_based_recommendations_entities(movie_index, cosine_sim_entities)\n",
    "print(\"Recommendations based on NER extracted from titles:\")\n",
    "print(ner_recommendations)"
   ]
  },
  {
   "cell_type": "code",
   "execution_count": 132,
   "id": "be357301",
   "metadata": {},
   "outputs": [
    {
     "name": "stdout",
     "output_type": "stream",
     "text": [
      "Weighted combined recommendations (80% genre, 20% NER):\n",
      "Toy Story Toons: Small Fry (2011) - Genres: Adventure|Animation|Children|Comedy|Fantasy\n",
      "Antz (1998) - Genres: Adventure|Animation|Children|Comedy|Fantasy\n",
      "Toy Story 2 (1999) - Genres: Adventure|Animation|Children|Comedy|Fantasy\n",
      "Adventures of Rocky and Bullwinkle, The (2000) - Genres: Adventure|Animation|Children|Comedy|Fantasy\n",
      "Emperor's New Groove, The (2000) - Genres: Adventure|Animation|Children|Comedy|Fantasy\n",
      "Monsters, Inc. (2001) - Genres: Adventure|Animation|Children|Comedy|Fantasy\n",
      "DuckTales: The Movie - Treasure of the Lost Lamp (1990) - Genres: Adventure|Animation|Children|Comedy|Fantasy\n",
      "Wild, The (2006) - Genres: Adventure|Animation|Children|Comedy|Fantasy\n",
      "Shrek the Third (2007) - Genres: Adventure|Animation|Children|Comedy|Fantasy\n",
      "Tale of Despereaux, The (2008) - Genres: Adventure|Animation|Children|Comedy|Fantasy\n"
     ]
    }
   ],
   "source": [
    "movie_index = 0  # Index of a sample movie from the original 'movies' DataFrame\n",
    "\n",
    "# Generate weighted combined recommendations\n",
    "weighted_recommendations = weighted_combined_recommendations(movie_index, cosine_sim_genres, cosine_sim_entities, movies, temp_movies, n=10)\n",
    "print(\"Weighted combined recommendations (80% genre, 20% NER):\")\n",
    "for index, row in weighted_recommendations.iterrows():\n",
    "    print(f\"{row['title']} - Genres: {row['genres']}\")"
   ]
  },
  {
   "cell_type": "code",
   "execution_count": null,
   "id": "83830a42",
   "metadata": {},
   "outputs": [],
   "source": []
  },
  {
   "cell_type": "markdown",
   "id": "5b7807a0",
   "metadata": {},
   "source": [
    "## **5.Collaborative Filtering: Using SVD, Enhanced with Sentiment Analysis**"
   ]
  },
  {
   "cell_type": "markdown",
   "id": "494d4ebf",
   "metadata": {},
   "source": [
    "For collaborative filtering, we utilize Singular Value Decomposition (SVD) from the Surprise library to predict user preferences based on past interactions.\n",
    "\n",
    "Sentiment analysis enhances this by adjusting ratings through a linear regression model, using ratings as a proxy for sentiment. This model introduces variability with a random feedback factor to simulate diverse user opinions, ensuring adjusted ratings remain within typical bounds. \n",
    "\n",
    "This approach combines the predictive power of SVD with sentiment insights to refine recommendations, aiming for more personalized and accurate movie suggestions"
   ]
  },
  {
   "cell_type": "code",
   "execution_count": 181,
   "id": "85badd8e",
   "metadata": {},
   "outputs": [],
   "source": [
    "# Define sentiment categorization function\n",
    "def categorize_sentiment(rating):\n",
    "    if rating >= 4.0:\n",
    "        return 'positive'\n",
    "    elif rating <= 2.0:\n",
    "        return 'negative'\n",
    "    else:\n",
    "        return 'neutral'"
   ]
  },
  {
   "cell_type": "code",
   "execution_count": 182,
   "id": "0df0f27d",
   "metadata": {},
   "outputs": [],
   "source": [
    "# Apply sentiment categorization to ratings\n",
    "ratings['sentiment'] = ratings['rating'].apply(categorize_sentiment)"
   ]
  },
  {
   "cell_type": "markdown",
   "id": "b9df8bfc",
   "metadata": {},
   "source": [
    "**Question : Sentiment distribution of Movies based on Rating Classification**"
   ]
  },
  {
   "cell_type": "code",
   "execution_count": 183,
   "id": "038b4cd2",
   "metadata": {
    "scrolled": true
   },
   "outputs": [
    {
     "data": {
      "image/png": "[encoded data removed]",
      "text/plain": [
       "<Figure size 432x288 with 1 Axes>"
      ]
     },
     "metadata": {},
     "output_type": "display_data"
    }
   ],
   "source": [
    "labels = ['positive', 'neutral', 'negative']\n",
    "sizes = ratings['sentiment'].value_counts()\n",
    "colors = ['lightgreen', 'lightblue', 'yellow']\n",
    "\n",
    "plt.pie(sizes, labels=labels, autopct='%1.1f%%', colors = colors)\n",
    "plt.gca().set_title('Sentiment Distribution')\n",
    "plt.gca().legend(loc='upper right', labels=labels)\n",
    "plt.gca().set_aspect('equal')\n",
    "\n",
    "plt.show()"
   ]
  },
  {
   "cell_type": "markdown",
   "id": "97edadb1",
   "metadata": {},
   "source": [
    "### **Collaborative Filtering with SVD using Surprise Library**"
   ]
  },
  {
   "cell_type": "code",
   "execution_count": 15,
   "id": "7e41b69e",
   "metadata": {},
   "outputs": [],
   "source": [
    "# Load the Surprise dataset for collaborative filtering\n",
    "reader = Reader(rating_scale=(0.5, 5))\n",
    "data = Dataset.load_from_df(ratings[['userId', 'movieId', 'rating']], reader)"
   ]
  },
  {
   "cell_type": "code",
   "execution_count": 16,
   "id": "673822e4",
   "metadata": {},
   "outputs": [
    {
     "data": {
      "text/plain": [
       "<surprise.prediction_algorithms.matrix_factorization.SVD at 0x24792124550>"
      ]
     },
     "execution_count": 16,
     "metadata": {},
     "output_type": "execute_result"
    }
   ],
   "source": [
    "# Train the collaborative filtering model using SVD\n",
    "trainset = data.build_full_trainset()\n",
    "algo = SVD()\n",
    "algo.fit(trainset)"
   ]
  },
  {
   "cell_type": "code",
   "execution_count": 17,
   "id": "32fe3ac8",
   "metadata": {},
   "outputs": [],
   "source": [
    "# Define the SVD recommendation function\n",
    "def svd_recommendations(user_id, movies, algo, n=10):\n",
    "    predictions = []\n",
    "    for movie_id in movies['movieId'].unique():\n",
    "        prediction = algo.predict(user_id, movie_id)\n",
    "        predictions.append((movie_id, prediction.est))\n",
    "    predictions.sort(key=lambda x: x[1], reverse=True)\n",
    "    top_movie_ids = [movie_id for movie_id, _ in predictions[:n]]\n",
    "    top_recommendations = [(movies[movies['movieId'] == movie_id]['title'].iloc[0], score) for movie_id, score in predictions[:n]]\n",
    "    return top_recommendations\n"
   ]
  },
  {
   "cell_type": "code",
   "execution_count": 110,
   "id": "3a7cd505",
   "metadata": {
    "scrolled": false
   },
   "outputs": [
    {
     "name": "stdout",
     "output_type": "stream",
     "text": [
      "Top recommendations based on SVD:\n",
      "Movie Title: Shawshank Redemption, The (1994), Estimated Rating: 5\n",
      "Movie Title: Schindler's List (1993), Estimated Rating: 5\n",
      "Movie Title: Civil War, The (1990), Estimated Rating: 5\n",
      "Movie Title: Life (2009), Estimated Rating: 5\n",
      "Movie Title: Hidden Figures (2016), Estimated Rating: 5\n",
      "Movie Title: Band of Brothers (2001), Estimated Rating: 5\n",
      "Movie Title: Cosmos: A Spacetime Odissey, Estimated Rating: 5\n",
      "Movie Title: Pride and Prejudice (1995), Estimated Rating: 4.98502051139718\n",
      "Movie Title: Singin' in the Rain (1952), Estimated Rating: 4.954540860714751\n",
      "Movie Title: When Harry Met Sally... (1989), Estimated Rating: 4.946858562037452\n"
     ]
    }
   ],
   "source": [
    "# Example usage for SVD recommendation\n",
    "user_id = random.randint(0, 7000)  # Random user ID for demonstration\n",
    "\n",
    "# SVD Recommendations\n",
    "top_svd_recommendations = svd_recommendations(user_id, movies, algo, n=10)\n",
    "print(\"Top recommendations based on SVD:\")\n",
    "for movie_title, estimated_rating in top_svd_recommendations:\n",
    "    print(f\"Movie Title: {movie_title}, Estimated Rating: {estimated_rating}\")"
   ]
  },
  {
   "cell_type": "markdown",
   "id": "347c6588",
   "metadata": {},
   "source": [
    "### **SVD recommendation enhanced with Sentiment Analysis**"
   ]
  },
  {
   "cell_type": "markdown",
   "id": "07796968",
   "metadata": {},
   "source": [
    "In an ideal scenario, sentiment analysis would be conducted on user reviews to better understand user preferences and adjust the ratings accordingly. However, due to the computational complexity and the extensive data processing required to analyze textual reviews, this research simplifies the approach by utilizing the numerical ratings data as a proxy for sentiment. This simplification allows for a more feasible implementation within the scope of this research while still exploring the impact of sentiment on recommendation systems. Train a linear regression model using ratings as a simplified representation of user sentiment. The model is trained with ratings as both features and target, acknowledging that this approach is a simplification meant to simulate sentiment adjustments in a computationally efficient manner. Later, adjusted with random factor to represent hypothetically flucatuation in user revies or sentiment."
   ]
  },
  {
   "cell_type": "code",
   "execution_count": 191,
   "id": "a9d83169",
   "metadata": {},
   "outputs": [
    {
     "data": {
      "text/plain": [
       "LinearRegression()"
      ]
     },
     "execution_count": 191,
     "metadata": {},
     "output_type": "execute_result"
    }
   ],
   "source": [
    "# Train a linear regression model using ratings as both features and target (for simplicity)\n",
    "lin_reg = LinearRegression()\n",
    "ratings_features = ratings['rating'].values.reshape(-1, 1)\n",
    "lin_reg.fit(ratings_features, ratings_features)"
   ]
  },
  {
   "cell_type": "code",
   "execution_count": 119,
   "id": "3e600d52",
   "metadata": {},
   "outputs": [],
   "source": [
    "def adjust_rating_based_on_model(original_rating, model):\n",
    "    # Introduce a dynamic feedback factor to simulate variability in user sentiment.\n",
    "    # This random factor represents hypothetical fluctuations in user reviews or sentiment,\n",
    "    # which, in a more complex model, would be derived from textual analysis of user reviews.\n",
    "    feedback_factor = random.uniform(-0.5, 0.5)  # Randomly choose a value between -0.5 and 0.5\n",
    "    \n",
    "    # Use the linear model to adjust the original rating based on the simulated feedback factor.\n",
    "    # This adjustment aims to reflect how actual sentiment analysis might influence the ratings,\n",
    "    # thereby introducing a layer of realism to the recommendations.\n",
    "    adjusted_rating = model.predict([[original_rating + feedback_factor]])[0][0]\n",
    "    \n",
    "    # Ensure the adjusted rating remains within the typical rating bounds of 1 to 5.\n",
    "    adjusted_rating = np.clip(adjusted_rating, 1, 5)\n",
    "    \n",
    "    return adjusted_rating"
   ]
  },
  {
   "cell_type": "code",
   "execution_count": 193,
   "id": "70f3618d",
   "metadata": {},
   "outputs": [],
   "source": [
    "def svd_recommendation_with_sentiment(user_id, movies, algo, model, n=10):\n",
    "    # Generate SVD recommendations as the baseline.\n",
    "    svd_recommendations = [(movie_id, algo.predict(user_id, movie_id).est) for movie_id in movies['movieId'].unique()]\n",
    "    svd_recommendations.sort(key=lambda x: x[1], reverse=True)\n",
    "    top_svd_recommendations = svd_recommendations[:n]\n",
    "    \n",
    "    # Adjust the SVD recommendations using the sentiment-adjusted ratings.\n",
    "    # This step integrates the simplified sentiment model into the collaborative filtering approach,\n",
    "    # aiming to enhance recommendation relevance by incorporating a form of sentiment analysis.\n",
    "    adjusted_recommendations = [(movie_id, adjust_rating_based_on_model(score, model)) for movie_id, score in top_svd_recommendations]\n",
    "    \n",
    "    # Compile the final lists of SVD and sentiment-adjusted recommendations for comparison.\n",
    "    top_svd_recommendations_titles = [(movies.loc[movies['movieId'] == movie_id, 'title'].iloc[0], score) for movie_id, score in top_svd_recommendations]\n",
    "    top_adjusted_recommendations_titles = [(movies.loc[movies['movieId'] == movie_id, 'title'].iloc[0], score) for movie_id, score in adjusted_recommendations]\n",
    "    \n",
    "    return top_svd_recommendations_titles, top_adjusted_recommendations_titles"
   ]
  },
  {
   "cell_type": "code",
   "execution_count": 194,
   "id": "b7440e5c",
   "metadata": {
    "scrolled": false
   },
   "outputs": [
    {
     "name": "stdout",
     "output_type": "stream",
     "text": [
      "Top SVD Recommendations:\n",
      "Matrix, The (1999), Score: 4.69\n",
      "Legend of the Galactic Heroes: My Conquest Is the Sea of Stars (1988), Score: 4.62\n",
      "Fight Club (1999), Score: 4.59\n",
      "Long Way Round (2004), Score: 4.59\n",
      "Shawshank Redemption, The (1994), Score: 4.58\n",
      "Jimmy Carr: In Concert (2008), Score: 4.52\n",
      "Bill Burr: Why Do I Do This? (2008), Score: 4.47\n",
      "Planet Earth II (2016), Score: 4.46\n",
      "Planet Earth (2006), Score: 4.46\n",
      "Seven (a.k.a. Se7en) (1995), Score: 4.45\n",
      "\n",
      "Top Recommendations with Sentiment Adjustment:\n",
      "Matrix, The (1999), Adjusted Score: 4.56\n",
      "Legend of the Galactic Heroes: My Conquest Is the Sea of Stars (1988), Adjusted Score: 4.20\n",
      "Fight Club (1999), Adjusted Score: 4.49\n",
      "Long Way Round (2004), Adjusted Score: 4.62\n",
      "Shawshank Redemption, The (1994), Adjusted Score: 5.00\n",
      "Jimmy Carr: In Concert (2008), Adjusted Score: 4.60\n",
      "Bill Burr: Why Do I Do This? (2008), Adjusted Score: 4.93\n",
      "Planet Earth II (2016), Adjusted Score: 4.71\n",
      "Planet Earth (2006), Adjusted Score: 4.68\n",
      "Seven (a.k.a. Se7en) (1995), Adjusted Score: 4.70\n"
     ]
    }
   ],
   "source": [
    "# Example usage\n",
    "user_id = random.randint(1, 610)  # Assuming user IDs are between 1 and 610\n",
    "top_svd_recommendations, top_adjusted_recommendations = svd_recommendation_with_sentiment(user_id, movies, algo, lin_reg, n=10)\n",
    "\n",
    "# Print SVD Recommendations\n",
    "print(\"Top SVD Recommendations:\")\n",
    "for movie_title, score in top_svd_recommendations:\n",
    "    print(f\"{movie_title}, Score: {score:.2f}\")\n",
    "\n",
    "print(\"\\nTop Recommendations with Sentiment Adjustment:\")\n",
    "# Print Hybrid Recommendations with Sentiment Adjustment\n",
    "for movie_title, adjusted_score in top_adjusted_recommendations:\n",
    "    print(f\"{movie_title}, Adjusted Score: {adjusted_score:.2f}\")"
   ]
  },
  {
   "cell_type": "markdown",
   "id": "834d431d",
   "metadata": {},
   "source": [
    "## **6.Hybrid Recommendation System: Integrating Collaborative & Content-Based Approaches,Compilation of All Recommendation Results**"
   ]
  },
  {
   "cell_type": "code",
   "execution_count": 197,
   "id": "95fe22c3",
   "metadata": {},
   "outputs": [],
   "source": [
    "def compile_final_recommendations(user_id, movie_idx, movies, algo, model, cosine_sim_genres, cosine_sim_entities, n=10):\n",
    "    # Genre-Based Recommendations\n",
    "    genre_based_results = content_based_recommendations_genres(movie_idx, cosine_sim_genres, n)\n",
    "    genre_recs = genre_based_results['title'].tolist()\n",
    "\n",
    "    # NER-Based Recommendations\n",
    "    ner_based_results = content_based_recommendations_entities(movie_idx, cosine_sim_entities, n)\n",
    "    ner_recs = ner_based_results['title'].tolist()\n",
    "\n",
    "    # Weighted Genre + NER Recommendations\n",
    "    weighted_recs_df = weighted_combined_recommendations(movie_idx, cosine_sim_genres, cosine_sim_entities, movies, n)\n",
    "    weighted_recs = weighted_recs_df['title'].tolist()\n",
    "\n",
    "    # SVD Recommendations\n",
    "    svd_recs = [rec[0] for rec in svd_recommendations(user_id, movies, algo, n)]\n",
    "\n",
    "    # SVD with Sentiment Adjustments\n",
    "    _, svd_sentiment_recs = svd_recommendation_with_sentiment(user_id, movies, algo, model, n)\n",
    "\n",
    "    # Generate final recommendations\n",
    "    combined_final_recs = list(set(weighted_recs[:n//2] + svd_sentiment_recs[:n//2]))\n",
    "\n",
    "    # Fill additional recommendations if needed based on final recommendation outpupt\n",
    "    additional_recs_needed = n - len(combined_final_recs)\n",
    "    if additional_recs_needed > 0:\n",
    "        combined_final_recs.extend(weighted_recs[n//2:n//2+additional_recs_needed])\n",
    "\n",
    "    # Populate the DataFrame\n",
    "    results_df = pd.DataFrame({\n",
    "        'Genre_Based': pd.Series(genre_recs, dtype=str),\n",
    "        'NER_Based': pd.Series(ner_recs, dtype=str),\n",
    "        'Weighted_Genre_NER': pd.Series(weighted_recs, dtype=str),\n",
    "        'SVD': pd.Series(svd_recs, dtype=str),\n",
    "        'SVD_Sentiment': pd.Series(svd_sentiment_recs, dtype=str),\n",
    "        'Final_Hybrid': pd.Series(combined_final_recs, dtype=str)\n",
    "    })\n",
    "\n",
    "    return results_df\n",
    "\n",
    "\n"
   ]
  },
  {
   "cell_type": "code",
   "execution_count": 201,
   "id": "7770929a",
   "metadata": {},
   "outputs": [
    {
     "data": {
      "text/html": [
       "<div>\n",
       "<style scoped>\n",
       "    .dataframe tbody tr th:only-of-type {\n",
       "        vertical-align: middle;\n",
       "    }\n",
       "\n",
       "    .dataframe tbody tr th {\n",
       "        vertical-align: top;\n",
       "    }\n",
       "\n",
       "    .dataframe thead th {\n",
       "        text-align: right;\n",
       "    }\n",
       "</style>\n",
       "<table border=\"1\" class=\"dataframe\">\n",
       "  <thead>\n",
       "    <tr style=\"text-align: right;\">\n",
       "      <th></th>\n",
       "      <th>Genre_Based</th>\n",
       "      <th>NER_Based</th>\n",
       "      <th>Weighted_Genre_NER</th>\n",
       "      <th>SVD</th>\n",
       "      <th>SVD_Sentiment</th>\n",
       "      <th>Final_Hybrid</th>\n",
       "    </tr>\n",
       "  </thead>\n",
       "  <tbody>\n",
       "    <tr>\n",
       "      <th>0</th>\n",
       "      <td>Antz (1998)</td>\n",
       "      <td>Toy Story That Time Forgot (2014)</td>\n",
       "      <td>Toy Story Toons: Small Fry (2011)</td>\n",
       "      <td>Law Abiding Citizen (2009)</td>\n",
       "      <td>(Law Abiding Citizen (2009), 5.0)</td>\n",
       "      <td>Toy Story Toons: Small Fry (2011)</td>\n",
       "    </tr>\n",
       "    <tr>\n",
       "      <th>1</th>\n",
       "      <td>Toy Story 2 (1999)</td>\n",
       "      <td>Toy Story Toons: Small Fry (2011)</td>\n",
       "      <td>Antz (1998)</td>\n",
       "      <td>Boondock Saints, The (2000)</td>\n",
       "      <td>(Boondock Saints, The (2000), 5.0)</td>\n",
       "      <td>Antz (1998)</td>\n",
       "    </tr>\n",
       "    <tr>\n",
       "      <th>2</th>\n",
       "      <td>Adventures of Rocky and Bullwinkle, The (2000)</td>\n",
       "      <td>Toy Story Toons: Partysaurus Rex (2012)</td>\n",
       "      <td>Toy Story 2 (1999)</td>\n",
       "      <td>Armageddon (1998)</td>\n",
       "      <td>(Armageddon (1998), 5.0)</td>\n",
       "      <td>(\"Christmas Vacation (National Lampoon's Chris...</td>\n",
       "    </tr>\n",
       "    <tr>\n",
       "      <th>3</th>\n",
       "      <td>Emperor's New Groove, The (2000)</td>\n",
       "      <td>Toy Masters (2014)</td>\n",
       "      <td>Adventures of Rocky and Bullwinkle, The (2000)</td>\n",
       "      <td>Christmas Vacation (National Lampoon's Christm...</td>\n",
       "      <td>(Christmas Vacation (National Lampoon's Christ...</td>\n",
       "      <td>Adventures of Rocky and Bullwinkle, The (2000)</td>\n",
       "    </tr>\n",
       "    <tr>\n",
       "      <th>4</th>\n",
       "      <td>Monsters, Inc. (2001)</td>\n",
       "      <td>The Toy Box (1971)</td>\n",
       "      <td>Emperor's New Groove, The (2000)</td>\n",
       "      <td>Jim Jefferies: Fully Functional (EPIX) (2012)</td>\n",
       "      <td>(Jim Jefferies: Fully Functional (EPIX) (2012)...</td>\n",
       "      <td>('Law Abiding Citizen (2009)', 5.0)</td>\n",
       "    </tr>\n",
       "    <tr>\n",
       "      <th>5</th>\n",
       "      <td>DuckTales: The Movie - Treasure of the Lost La...</td>\n",
       "      <td>The Toy Wife (1938)</td>\n",
       "      <td>Monsters, Inc. (2001)</td>\n",
       "      <td>Very Thought of You, The (1998)</td>\n",
       "      <td>(Very Thought of You, The (1998), 4.5833009809...</td>\n",
       "      <td>('Armageddon (1998)', 5.0)</td>\n",
       "    </tr>\n",
       "    <tr>\n",
       "      <th>6</th>\n",
       "      <td>Wild, The (2006)</td>\n",
       "      <td>Waiting to Exhale (1995)</td>\n",
       "      <td>DuckTales: The Movie - Treasure of the Lost La...</td>\n",
       "      <td>Happy Gilmore (1996)</td>\n",
       "      <td>(Happy Gilmore (1996), 4.485678359702657)</td>\n",
       "      <td>('Jim Jefferies: Fully Functional (EPIX) (2012...</td>\n",
       "    </tr>\n",
       "    <tr>\n",
       "      <th>7</th>\n",
       "      <td>Shrek the Third (2007)</td>\n",
       "      <td>Heat (1995)</td>\n",
       "      <td>Wild, The (2006)</td>\n",
       "      <td>Independence Day (a.k.a. ID4) (1996)</td>\n",
       "      <td>(Independence Day (a.k.a. ID4) (1996), 5.0)</td>\n",
       "      <td>Toy Story 2 (1999)</td>\n",
       "    </tr>\n",
       "    <tr>\n",
       "      <th>8</th>\n",
       "      <td>Tale of Despereaux, The (2008)</td>\n",
       "      <td>Casino (1995)</td>\n",
       "      <td>Shrek the Third (2007)</td>\n",
       "      <td>Hangover, The (2009)</td>\n",
       "      <td>(Hangover, The (2009), 4.810639820844037)</td>\n",
       "      <td>('Boondock Saints, The (2000)', 5.0)</td>\n",
       "    </tr>\n",
       "    <tr>\n",
       "      <th>9</th>\n",
       "      <td>Asterix and the Vikings (Astérix et les Viking...</td>\n",
       "      <td>Money Train (1995)</td>\n",
       "      <td>Tale of Despereaux, The (2008)</td>\n",
       "      <td>Waterboy, The (1998)</td>\n",
       "      <td>(Waterboy, The (1998), 4.979511485855401)</td>\n",
       "      <td>Emperor's New Groove, The (2000)</td>\n",
       "    </tr>\n",
       "  </tbody>\n",
       "</table>\n",
       "</div>"
      ],
      "text/plain": [
       "                                         Genre_Based  \\\n",
       "0                                        Antz (1998)   \n",
       "1                                 Toy Story 2 (1999)   \n",
       "2     Adventures of Rocky and Bullwinkle, The (2000)   \n",
       "3                   Emperor's New Groove, The (2000)   \n",
       "4                              Monsters, Inc. (2001)   \n",
       "5  DuckTales: The Movie - Treasure of the Lost La...   \n",
       "6                                   Wild, The (2006)   \n",
       "7                             Shrek the Third (2007)   \n",
       "8                     Tale of Despereaux, The (2008)   \n",
       "9  Asterix and the Vikings (Astérix et les Viking...   \n",
       "\n",
       "                                 NER_Based  \\\n",
       "0        Toy Story That Time Forgot (2014)   \n",
       "1        Toy Story Toons: Small Fry (2011)   \n",
       "2  Toy Story Toons: Partysaurus Rex (2012)   \n",
       "3                       Toy Masters (2014)   \n",
       "4                       The Toy Box (1971)   \n",
       "5                      The Toy Wife (1938)   \n",
       "6                 Waiting to Exhale (1995)   \n",
       "7                              Heat (1995)   \n",
       "8                            Casino (1995)   \n",
       "9                       Money Train (1995)   \n",
       "\n",
       "                                  Weighted_Genre_NER  \\\n",
       "0                  Toy Story Toons: Small Fry (2011)   \n",
       "1                                        Antz (1998)   \n",
       "2                                 Toy Story 2 (1999)   \n",
       "3     Adventures of Rocky and Bullwinkle, The (2000)   \n",
       "4                   Emperor's New Groove, The (2000)   \n",
       "5                              Monsters, Inc. (2001)   \n",
       "6  DuckTales: The Movie - Treasure of the Lost La...   \n",
       "7                                   Wild, The (2006)   \n",
       "8                             Shrek the Third (2007)   \n",
       "9                     Tale of Despereaux, The (2008)   \n",
       "\n",
       "                                                 SVD  \\\n",
       "0                         Law Abiding Citizen (2009)   \n",
       "1                        Boondock Saints, The (2000)   \n",
       "2                                  Armageddon (1998)   \n",
       "3  Christmas Vacation (National Lampoon's Christm...   \n",
       "4      Jim Jefferies: Fully Functional (EPIX) (2012)   \n",
       "5                    Very Thought of You, The (1998)   \n",
       "6                               Happy Gilmore (1996)   \n",
       "7               Independence Day (a.k.a. ID4) (1996)   \n",
       "8                               Hangover, The (2009)   \n",
       "9                               Waterboy, The (1998)   \n",
       "\n",
       "                                       SVD_Sentiment  \\\n",
       "0                  (Law Abiding Citizen (2009), 5.0)   \n",
       "1                 (Boondock Saints, The (2000), 5.0)   \n",
       "2                           (Armageddon (1998), 5.0)   \n",
       "3  (Christmas Vacation (National Lampoon's Christ...   \n",
       "4  (Jim Jefferies: Fully Functional (EPIX) (2012)...   \n",
       "5  (Very Thought of You, The (1998), 4.5833009809...   \n",
       "6          (Happy Gilmore (1996), 4.485678359702657)   \n",
       "7        (Independence Day (a.k.a. ID4) (1996), 5.0)   \n",
       "8          (Hangover, The (2009), 4.810639820844037)   \n",
       "9          (Waterboy, The (1998), 4.979511485855401)   \n",
       "\n",
       "                                        Final_Hybrid  \n",
       "0                  Toy Story Toons: Small Fry (2011)  \n",
       "1                                        Antz (1998)  \n",
       "2  (\"Christmas Vacation (National Lampoon's Chris...  \n",
       "3     Adventures of Rocky and Bullwinkle, The (2000)  \n",
       "4                ('Law Abiding Citizen (2009)', 5.0)  \n",
       "5                         ('Armageddon (1998)', 5.0)  \n",
       "6  ('Jim Jefferies: Fully Functional (EPIX) (2012...  \n",
       "7                                 Toy Story 2 (1999)  \n",
       "8               ('Boondock Saints, The (2000)', 5.0)  \n",
       "9                   Emperor's New Groove, The (2000)  "
      ]
     },
     "execution_count": 201,
     "metadata": {},
     "output_type": "execute_result"
    }
   ],
   "source": [
    "# Example usage\n",
    "user_id = random.randint(1, 610)  # Random User ID from sample range\n",
    "movie_idx = 0  #  the index for \"Toy Story\"\n",
    "\n",
    "recommendation_results = compile_final_recommendations(user_id, movie_idx, movies, algo, lin_reg, cosine_sim_genres, cosine_sim_entities, n=10)\n",
    "recommendation_results.head(10)"
   ]
  },
  {
   "cell_type": "code",
   "execution_count": 199,
   "id": "5b272415",
   "metadata": {},
   "outputs": [
    {
     "data": {
      "text/plain": [
       "0"
      ]
     },
     "execution_count": 199,
     "metadata": {},
     "output_type": "execute_result"
    }
   ],
   "source": [
    "# Cleanup to free memory after recommendations, if necessary\n",
    "gc.collect()"
   ]
  },
  {
   "cell_type": "markdown",
   "id": "1acbd417",
   "metadata": {},
   "source": [
    "## 7.Experimentation: Collaborative Filtering using RandomForestClassifier for Sentiment Analysis"
   ]
  },
  {
   "cell_type": "code",
   "execution_count": null,
   "id": "a452f5ad",
   "metadata": {},
   "outputs": [],
   "source": [
    "# Define a function to train the RandomForestClassifier for sentiment analysis\n",
    "def train_classifier_in_batches(data, batch_size=10000):\n",
    "    classifier = RandomForestClassifier(n_estimators=50, max_depth=10, random_state=42)\n",
    "    for start in range(0, data.shape[0], batch_size):\n",
    "        end = start + batch_size\n",
    "        batch_data = data.iloc[start:end]\n",
    "        classifier.fit(batch_data[['userId', 'movieId']], batch_data['sentiment'])\n",
    "    return classifier"
   ]
  },
  {
   "cell_type": "code",
   "execution_count": 18,
   "id": "10a17bcd",
   "metadata": {},
   "outputs": [],
   "source": [
    "# Train the classifier in batches\n",
    "classifier = train_classifier_in_batches(ratings[['userId', 'movieId', 'sentiment']])"
   ]
  },
  {
   "cell_type": "code",
   "execution_count": 161,
   "id": "ef32a95a",
   "metadata": {},
   "outputs": [],
   "source": [
    "# Hybrid Recommendations Function\n",
    "def hybrid_recommendation_with_sentiment1(user_id, movies, algo, classifier, n=10):\n",
    "    svd_predictions = []\n",
    "    for movie_id in movies['movieId'].unique():\n",
    "        prediction = algo.predict(uid=str(user_id), iid=str(movie_id))\n",
    "        svd_predictions.append((movie_id, prediction.est))\n",
    "    svd_predictions.sort(key=lambda x: x[1], reverse=True)\n",
    "    top_svd_movie_ids = [movie_id for movie_id, _ in svd_predictions[:n]]\n",
    "\n",
    "    adjusted_scores = []\n",
    "    for movie_id in top_svd_movie_ids:\n",
    "        predicted_sentiment = classifier.predict([[user_id, movie_id]])[0]\n",
    "        original_score = next(score for mid, score in svd_predictions if mid == movie_id)\n",
    "        adjusted_score = original_score + 0.1 if predicted_sentiment == 'positive' else original_score - 0.1\n",
    "        adjusted_scores.append((movie_id, adjusted_score))\n",
    "\n",
    "    adjusted_scores.sort(key=lambda x: x[1], reverse=True)\n",
    "    top_recommendations = [(movies[movies['movieId'] == movie_id]['title'].iloc[0], score) for movie_id, score in adjusted_scores[:n]]\n",
    "    return top_recommendations\n",
    "\n"
   ]
  },
  {
   "cell_type": "code",
   "execution_count": 204,
   "id": "f62cb3d3",
   "metadata": {},
   "outputs": [
    {
     "name": "stdout",
     "output_type": "stream",
     "text": [
      "\n",
      "Top recommendations based on Hybrid model with sentiment adjustment:\n",
      "Movie Title: Toy Story (1995), Score: 3.433854451353085\n",
      "Movie Title: Jumanji (1995), Score: 3.433854451353085\n",
      "Movie Title: Grumpier Old Men (1995), Score: 3.433854451353085\n",
      "Movie Title: Waiting to Exhale (1995), Score: 3.433854451353085\n",
      "Movie Title: Father of the Bride Part II (1995), Score: 3.433854451353085\n",
      "Movie Title: Heat (1995), Score: 3.433854451353085\n",
      "Movie Title: Sabrina (1995), Score: 3.433854451353085\n",
      "Movie Title: Tom and Huck (1995), Score: 3.433854451353085\n",
      "Movie Title: Sudden Death (1995), Score: 3.433854451353085\n",
      "Movie Title: GoldenEye (1995), Score: 3.433854451353085\n"
     ]
    }
   ],
   "source": [
    "# Example usage\n",
    "user_id = random.randint(1, 600)  # Random user ID for demonstration\n",
    "\n",
    "# Hybrid Recommendations\n",
    "top_hybrid_recommendations = hybrid_recommendation_with_sentiment1(user_id, movies, algo, classifier, n=10)\n",
    "print(\"\\nTop recommendations based on Hybrid model with sentiment adjustment:\")\n",
    "for movie_title, score in top_hybrid_recommendations:\n",
    "    print(f\"Movie Title: {movie_title}, Score: {score}\")"
   ]
  },
  {
   "cell_type": "code",
   "execution_count": 205,
   "id": "09022492",
   "metadata": {},
   "outputs": [
    {
     "name": "stdout",
     "output_type": "stream",
     "text": [
      "\n",
      "Top recommendations based on Hybrid model with sentiment adjustment:\n",
      "Movie Title: Toy Story (1995), Score: 3.433854451353085\n",
      "Movie Title: Jumanji (1995), Score: 3.433854451353085\n",
      "Movie Title: Grumpier Old Men (1995), Score: 3.433854451353085\n",
      "Movie Title: Waiting to Exhale (1995), Score: 3.433854451353085\n",
      "Movie Title: Father of the Bride Part II (1995), Score: 3.433854451353085\n",
      "Movie Title: Heat (1995), Score: 3.433854451353085\n",
      "Movie Title: Sabrina (1995), Score: 3.433854451353085\n",
      "Movie Title: Tom and Huck (1995), Score: 3.433854451353085\n",
      "Movie Title: Sudden Death (1995), Score: 3.433854451353085\n",
      "Movie Title: GoldenEye (1995), Score: 3.433854451353085\n"
     ]
    }
   ],
   "source": [
    "# Example usage\n",
    "user_id = random.randint(700, 7000)  # Random user ID for demonstration\n",
    "\n",
    "# Hybrid Recommendations\n",
    "top_hybrid_recommendations = hybrid_recommendation_with_sentiment1(user_id, movies, algo, classifier, n=10)\n",
    "print(\"\\nTop recommendations based on Hybrid model with sentiment adjustment:\")\n",
    "for movie_title, score in top_hybrid_recommendations:\n",
    "    print(f\"Movie Title: {movie_title}, Score: {score}\")"
   ]
  },
  {
   "cell_type": "code",
   "execution_count": null,
   "id": "cd907b60",
   "metadata": {},
   "outputs": [],
   "source": []
  }
 ],
 "metadata": {
  "kernelspec": {
   "display_name": "Python 3 (ipykernel)",
   "language": "python",
   "name": "python3"
  },
  "language_info": {
   "codemirror_mode": {
    "name": "ipython",
    "version": 3
   },
   "file_extension": ".py",
   "mimetype": "text/x-python",
   "name": "python",
   "nbconvert_exporter": "python",
   "pygments_lexer": "ipython3",
   "version": "3.9.7"
  }
 },
 "nbformat": 4,
 "nbformat_minor": 5
}
