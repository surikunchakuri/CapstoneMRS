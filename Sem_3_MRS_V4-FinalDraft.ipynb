{
 "cells": [
  {
   "cell_type": "markdown",
   "metadata": {
    "id": "6TFoxf4DIk-Z"
   },
   "source": [
    "<h1><b>Movie Recommendation System Using NLP, Hybrid Filtering, and Sentiment Analysis</b></h1>\n"
   ]
  },
  {
   "cell_type": "code",
   "execution_count": 3,
   "metadata": {
    "id": "1HChHfgQP-21"
   },
   "outputs": [],
   "source": [
    "import pandas as pd\n",
    "import spacy\n",
    "import random\n",
    "\n",
    "import matplotlib.pyplot as plt\n",
    "import seaborn as sns\n",
    "\n",
    "from spacy import displacy\n",
    "\n",
    "from sklearn.model_selection import train_test_split, GridSearchCV\n",
    "\n",
    "from sklearn.ensemble import RandomForestClassifier\n",
    "\n",
    "from sklearn.metrics import accuracy_score, classification_report, confusion_matrix\n",
    "\n",
    "from sklearn.model_selection import train_test_split as sklearn_train_test_split  # Alias to avoid conflict\n",
    "from sklearn.ensemble import RandomForestClassifier\n",
    "from sklearn.metrics import classification_report\n",
    "\n",
    "import numpy as np\n",
    "import random\n",
    "\n",
    "from surprise import Reader, Dataset, SVD, AlgoBase\n",
    "import gc  # Import the garbage collector\n",
    "\n",
    "import warnings\n",
    "warnings.filterwarnings('ignore')"
   ]
  },
  {
   "cell_type": "code",
   "execution_count": 2,
   "metadata": {
    "id": "sSLq9Zh2uXQY"
   },
   "outputs": [],
   "source": [
    "# !pip install scikit-surprise"
   ]
  },
  {
   "cell_type": "markdown",
   "metadata": {
    "id": "EmcN5uULZc8W"
   },
   "source": [
    "# **Load the dataset**"
   ]
  },
  {
   "cell_type": "code",
   "execution_count": 3,
   "metadata": {
    "id": "Q58KhCQ9QUvS"
   },
   "outputs": [],
   "source": [
    "movies = pd.read_csv('movies.csv')\n",
    "ratings = pd.read_csv('ratings.csv')"
   ]
  },
  {
   "cell_type": "markdown",
   "metadata": {
    "id": "cvdBDOluZn1_"
   },
   "source": [
    "# **Read The dataset**"
   ]
  },
  {
   "cell_type": "code",
   "execution_count": 4,
   "metadata": {
    "colab": {
     "base_uri": "https://localhost:8080/",
     "height": 206
    },
    "id": "3CARvPcMQUyh",
    "outputId": "8cf2d1b7-e3f3-4978-8e84-3c3b045c1211"
   },
   "outputs": [
    {
     "data": {
      "text/html": [
       "<div>\n",
       "<style scoped>\n",
       "    .dataframe tbody tr th:only-of-type {\n",
       "        vertical-align: middle;\n",
       "    }\n",
       "\n",
       "    .dataframe tbody tr th {\n",
       "        vertical-align: top;\n",
       "    }\n",
       "\n",
       "    .dataframe thead th {\n",
       "        text-align: right;\n",
       "    }\n",
       "</style>\n",
       "<table border=\"1\" class=\"dataframe\">\n",
       "  <thead>\n",
       "    <tr style=\"text-align: right;\">\n",
       "      <th></th>\n",
       "      <th>movieId</th>\n",
       "      <th>title</th>\n",
       "      <th>genres</th>\n",
       "    </tr>\n",
       "  </thead>\n",
       "  <tbody>\n",
       "    <tr>\n",
       "      <th>0</th>\n",
       "      <td>1</td>\n",
       "      <td>Toy Story (1995)</td>\n",
       "      <td>Adventure|Animation|Children|Comedy|Fantasy</td>\n",
       "    </tr>\n",
       "    <tr>\n",
       "      <th>1</th>\n",
       "      <td>2</td>\n",
       "      <td>Jumanji (1995)</td>\n",
       "      <td>Adventure|Children|Fantasy</td>\n",
       "    </tr>\n",
       "    <tr>\n",
       "      <th>2</th>\n",
       "      <td>3</td>\n",
       "      <td>Grumpier Old Men (1995)</td>\n",
       "      <td>Comedy|Romance</td>\n",
       "    </tr>\n",
       "    <tr>\n",
       "      <th>3</th>\n",
       "      <td>4</td>\n",
       "      <td>Waiting to Exhale (1995)</td>\n",
       "      <td>Comedy|Drama|Romance</td>\n",
       "    </tr>\n",
       "    <tr>\n",
       "      <th>4</th>\n",
       "      <td>5</td>\n",
       "      <td>Father of the Bride Part II (1995)</td>\n",
       "      <td>Comedy</td>\n",
       "    </tr>\n",
       "  </tbody>\n",
       "</table>\n",
       "</div>"
      ],
      "text/plain": [
       "   movieId                               title  \\\n",
       "0        1                    Toy Story (1995)   \n",
       "1        2                      Jumanji (1995)   \n",
       "2        3             Grumpier Old Men (1995)   \n",
       "3        4            Waiting to Exhale (1995)   \n",
       "4        5  Father of the Bride Part II (1995)   \n",
       "\n",
       "                                        genres  \n",
       "0  Adventure|Animation|Children|Comedy|Fantasy  \n",
       "1                   Adventure|Children|Fantasy  \n",
       "2                               Comedy|Romance  \n",
       "3                         Comedy|Drama|Romance  \n",
       "4                                       Comedy  "
      ]
     },
     "execution_count": 4,
     "metadata": {},
     "output_type": "execute_result"
    }
   ],
   "source": [
    "movies.head()"
   ]
  },
  {
   "cell_type": "code",
   "execution_count": 5,
   "metadata": {
    "colab": {
     "base_uri": "https://localhost:8080/",
     "height": 206
    },
    "id": "CZcVaUZWQU19",
    "outputId": "a79a3a96-e916-4ccb-f01b-c91989927893"
   },
   "outputs": [
    {
     "data": {
      "text/html": [
       "<div>\n",
       "<style scoped>\n",
       "    .dataframe tbody tr th:only-of-type {\n",
       "        vertical-align: middle;\n",
       "    }\n",
       "\n",
       "    .dataframe tbody tr th {\n",
       "        vertical-align: top;\n",
       "    }\n",
       "\n",
       "    .dataframe thead th {\n",
       "        text-align: right;\n",
       "    }\n",
       "</style>\n",
       "<table border=\"1\" class=\"dataframe\">\n",
       "  <thead>\n",
       "    <tr style=\"text-align: right;\">\n",
       "      <th></th>\n",
       "      <th>userId</th>\n",
       "      <th>movieId</th>\n",
       "      <th>rating</th>\n",
       "      <th>timestamp</th>\n",
       "    </tr>\n",
       "  </thead>\n",
       "  <tbody>\n",
       "    <tr>\n",
       "      <th>0</th>\n",
       "      <td>1</td>\n",
       "      <td>296</td>\n",
       "      <td>5.0</td>\n",
       "      <td>1147880044</td>\n",
       "    </tr>\n",
       "    <tr>\n",
       "      <th>1</th>\n",
       "      <td>1</td>\n",
       "      <td>306</td>\n",
       "      <td>3.5</td>\n",
       "      <td>1147868817</td>\n",
       "    </tr>\n",
       "    <tr>\n",
       "      <th>2</th>\n",
       "      <td>1</td>\n",
       "      <td>307</td>\n",
       "      <td>5.0</td>\n",
       "      <td>1147868828</td>\n",
       "    </tr>\n",
       "    <tr>\n",
       "      <th>3</th>\n",
       "      <td>1</td>\n",
       "      <td>665</td>\n",
       "      <td>5.0</td>\n",
       "      <td>1147878820</td>\n",
       "    </tr>\n",
       "    <tr>\n",
       "      <th>4</th>\n",
       "      <td>1</td>\n",
       "      <td>899</td>\n",
       "      <td>3.5</td>\n",
       "      <td>1147868510</td>\n",
       "    </tr>\n",
       "  </tbody>\n",
       "</table>\n",
       "</div>"
      ],
      "text/plain": [
       "   userId  movieId  rating   timestamp\n",
       "0       1      296     5.0  1147880044\n",
       "1       1      306     3.5  1147868817\n",
       "2       1      307     5.0  1147868828\n",
       "3       1      665     5.0  1147878820\n",
       "4       1      899     3.5  1147868510"
      ]
     },
     "execution_count": 5,
     "metadata": {},
     "output_type": "execute_result"
    }
   ],
   "source": [
    "ratings.head()"
   ]
  },
  {
   "cell_type": "markdown",
   "metadata": {
    "id": "2pUNQsmNT5N3"
   },
   "source": [
    "# **Dataset Description**"
   ]
  },
  {
   "cell_type": "code",
   "execution_count": 6,
   "metadata": {
    "id": "r1Y8AgW0T4ax"
   },
   "outputs": [],
   "source": [
    "def info(dataset, name):\n",
    "  print(\"Dataset Name: \", name)\n",
    "  print(f\"Number of Rows: {dataset.shape[0]}\")\n",
    "  print(f\"Number of Columns: {dataset.shape[1]}\")\n",
    "  print(f\"Number of observations: {dataset.shape[0]*dataset.shape[1]}\")\n",
    "  print(\"Datatypes of all variables:\")\n",
    "  dataset.info()"
   ]
  },
  {
   "cell_type": "code",
   "execution_count": 7,
   "metadata": {
    "colab": {
     "base_uri": "https://localhost:8080/"
    },
    "id": "i6evTU_kT95h",
    "outputId": "ad3382bb-ca0f-416f-aa7e-168fe396053c"
   },
   "outputs": [
    {
     "name": "stdout",
     "output_type": "stream",
     "text": [
      "Dataset Name:  movies\n",
      "Number of Rows: 62423\n",
      "Number of Columns: 3\n",
      "Number of observations: 187269\n",
      "Datatypes of all variables:\n",
      "<class 'pandas.core.frame.DataFrame'>\n",
      "RangeIndex: 62423 entries, 0 to 62422\n",
      "Data columns (total 3 columns):\n",
      " #   Column   Non-Null Count  Dtype \n",
      "---  ------   --------------  ----- \n",
      " 0   movieId  62423 non-null  int64 \n",
      " 1   title    62423 non-null  object\n",
      " 2   genres   62423 non-null  object\n",
      "dtypes: int64(1), object(2)\n",
      "memory usage: 1.4+ MB\n"
     ]
    }
   ],
   "source": [
    "info(movies, 'movies')"
   ]
  },
  {
   "cell_type": "code",
   "execution_count": 8,
   "metadata": {
    "colab": {
     "base_uri": "https://localhost:8080/"
    },
    "id": "m2whibcbT98I",
    "outputId": "a7b7d41a-e6f4-48d0-e61c-c5e9e94913bc"
   },
   "outputs": [
    {
     "name": "stdout",
     "output_type": "stream",
     "text": [
      "Dataset Name:  ratings\n",
      "Number of Rows: 25000095\n",
      "Number of Columns: 4\n",
      "Number of observations: 100000380\n",
      "Datatypes of all variables:\n",
      "<class 'pandas.core.frame.DataFrame'>\n",
      "RangeIndex: 25000095 entries, 0 to 25000094\n",
      "Data columns (total 4 columns):\n",
      " #   Column     Dtype  \n",
      "---  ------     -----  \n",
      " 0   userId     int64  \n",
      " 1   movieId    int64  \n",
      " 2   rating     float64\n",
      " 3   timestamp  int64  \n",
      "dtypes: float64(1), int64(3)\n",
      "memory usage: 762.9 MB\n"
     ]
    }
   ],
   "source": [
    "info(ratings, 'ratings')"
   ]
  },
  {
   "cell_type": "markdown",
   "metadata": {
    "id": "yqFuFJaPZs7r"
   },
   "source": [
    "# **Combination of the dataset**"
   ]
  },
  {
   "cell_type": "code",
   "execution_count": 9,
   "metadata": {
    "id": "IIcfqbgQP-5h"
   },
   "outputs": [],
   "source": [
    "combined_data = pd.merge(ratings, movies, on='movieId')"
   ]
  },
  {
   "cell_type": "code",
   "execution_count": 10,
   "metadata": {
    "id": "krCw37VZlMIj"
   },
   "outputs": [],
   "source": [
    "combined_data = combined_data.iloc[0:100000]"
   ]
  },
  {
   "cell_type": "code",
   "execution_count": 11,
   "metadata": {
    "id": "yGB5wOt8-S68"
   },
   "outputs": [],
   "source": [
    "# model_data.to_csv(\"movies-and-ratings.csv\", index = False)"
   ]
  },
  {
   "cell_type": "code",
   "execution_count": 12,
   "metadata": {
    "colab": {
     "base_uri": "https://localhost:8080/"
    },
    "id": "_2641NZj61td",
    "outputId": "25dd1deb-1ca6-48ba-d6d1-87d1bfda8407"
   },
   "outputs": [
    {
     "name": "stdout",
     "output_type": "stream",
     "text": [
      "Dataset Name:  combined_data\n",
      "Number of Rows: 100000\n",
      "Number of Columns: 6\n",
      "Number of observations: 600000\n",
      "Datatypes of all variables:\n",
      "<class 'pandas.core.frame.DataFrame'>\n",
      "Int64Index: 100000 entries, 0 to 99999\n",
      "Data columns (total 6 columns):\n",
      " #   Column     Non-Null Count   Dtype  \n",
      "---  ------     --------------   -----  \n",
      " 0   userId     100000 non-null  int64  \n",
      " 1   movieId    100000 non-null  int64  \n",
      " 2   rating     100000 non-null  float64\n",
      " 3   timestamp  100000 non-null  int64  \n",
      " 4   title      100000 non-null  object \n",
      " 5   genres     100000 non-null  object \n",
      "dtypes: float64(1), int64(3), object(2)\n",
      "memory usage: 5.3+ MB\n"
     ]
    }
   ],
   "source": [
    "info(combined_data, 'combined_data')"
   ]
  },
  {
   "cell_type": "code",
   "execution_count": 13,
   "metadata": {
    "colab": {
     "base_uri": "https://localhost:8080/",
     "height": 206
    },
    "id": "ggzKGcf_P-8i",
    "outputId": "c3b68675-e7f2-4e7d-f401-01df318d0de5"
   },
   "outputs": [
    {
     "data": {
      "text/html": [
       "<div>\n",
       "<style scoped>\n",
       "    .dataframe tbody tr th:only-of-type {\n",
       "        vertical-align: middle;\n",
       "    }\n",
       "\n",
       "    .dataframe tbody tr th {\n",
       "        vertical-align: top;\n",
       "    }\n",
       "\n",
       "    .dataframe thead th {\n",
       "        text-align: right;\n",
       "    }\n",
       "</style>\n",
       "<table border=\"1\" class=\"dataframe\">\n",
       "  <thead>\n",
       "    <tr style=\"text-align: right;\">\n",
       "      <th></th>\n",
       "      <th>userId</th>\n",
       "      <th>movieId</th>\n",
       "      <th>rating</th>\n",
       "      <th>timestamp</th>\n",
       "      <th>title</th>\n",
       "      <th>genres</th>\n",
       "    </tr>\n",
       "  </thead>\n",
       "  <tbody>\n",
       "    <tr>\n",
       "      <th>0</th>\n",
       "      <td>1</td>\n",
       "      <td>296</td>\n",
       "      <td>5.0</td>\n",
       "      <td>1147880044</td>\n",
       "      <td>Pulp Fiction (1994)</td>\n",
       "      <td>Comedy|Crime|Drama|Thriller</td>\n",
       "    </tr>\n",
       "    <tr>\n",
       "      <th>1</th>\n",
       "      <td>3</td>\n",
       "      <td>296</td>\n",
       "      <td>5.0</td>\n",
       "      <td>1439474476</td>\n",
       "      <td>Pulp Fiction (1994)</td>\n",
       "      <td>Comedy|Crime|Drama|Thriller</td>\n",
       "    </tr>\n",
       "    <tr>\n",
       "      <th>2</th>\n",
       "      <td>4</td>\n",
       "      <td>296</td>\n",
       "      <td>4.0</td>\n",
       "      <td>1573938898</td>\n",
       "      <td>Pulp Fiction (1994)</td>\n",
       "      <td>Comedy|Crime|Drama|Thriller</td>\n",
       "    </tr>\n",
       "    <tr>\n",
       "      <th>3</th>\n",
       "      <td>5</td>\n",
       "      <td>296</td>\n",
       "      <td>4.0</td>\n",
       "      <td>830786155</td>\n",
       "      <td>Pulp Fiction (1994)</td>\n",
       "      <td>Comedy|Crime|Drama|Thriller</td>\n",
       "    </tr>\n",
       "    <tr>\n",
       "      <th>4</th>\n",
       "      <td>7</td>\n",
       "      <td>296</td>\n",
       "      <td>4.0</td>\n",
       "      <td>835444730</td>\n",
       "      <td>Pulp Fiction (1994)</td>\n",
       "      <td>Comedy|Crime|Drama|Thriller</td>\n",
       "    </tr>\n",
       "  </tbody>\n",
       "</table>\n",
       "</div>"
      ],
      "text/plain": [
       "   userId  movieId  rating   timestamp                title  \\\n",
       "0       1      296     5.0  1147880044  Pulp Fiction (1994)   \n",
       "1       3      296     5.0  1439474476  Pulp Fiction (1994)   \n",
       "2       4      296     4.0  1573938898  Pulp Fiction (1994)   \n",
       "3       5      296     4.0   830786155  Pulp Fiction (1994)   \n",
       "4       7      296     4.0   835444730  Pulp Fiction (1994)   \n",
       "\n",
       "                        genres  \n",
       "0  Comedy|Crime|Drama|Thriller  \n",
       "1  Comedy|Crime|Drama|Thriller  \n",
       "2  Comedy|Crime|Drama|Thriller  \n",
       "3  Comedy|Crime|Drama|Thriller  \n",
       "4  Comedy|Crime|Drama|Thriller  "
      ]
     },
     "execution_count": 13,
     "metadata": {},
     "output_type": "execute_result"
    }
   ],
   "source": [
    "combined_data.head()"
   ]
  },
  {
   "cell_type": "markdown",
   "metadata": {
    "id": "2NxC1w8TZzOq"
   },
   "source": [
    "# **Check for null values in the combined dataset**"
   ]
  },
  {
   "cell_type": "code",
   "execution_count": 14,
   "metadata": {
    "colab": {
     "base_uri": "https://localhost:8080/"
    },
    "id": "kjNDRPQAP-_G",
    "outputId": "7d628936-54ce-4854-c1b8-05c2ee76c7a6"
   },
   "outputs": [
    {
     "data": {
      "text/plain": [
       "userId       0\n",
       "movieId      0\n",
       "rating       0\n",
       "timestamp    0\n",
       "title        0\n",
       "genres       0\n",
       "dtype: int64"
      ]
     },
     "execution_count": 14,
     "metadata": {},
     "output_type": "execute_result"
    }
   ],
   "source": [
    "combined_data.isnull().sum()"
   ]
  },
  {
   "cell_type": "markdown",
   "metadata": {
    "id": "v-bjqmDzZ2sn"
   },
   "source": [
    "# **Check data types of each column in the combined dataset**"
   ]
  },
  {
   "cell_type": "code",
   "execution_count": 15,
   "metadata": {
    "colab": {
     "base_uri": "https://localhost:8080/"
    },
    "id": "JMm51nAmP_Ex",
    "outputId": "f72b8fe8-e00f-4476-b22b-905f4bd2afd0"
   },
   "outputs": [
    {
     "data": {
      "text/plain": [
       "userId         int64\n",
       "movieId        int64\n",
       "rating       float64\n",
       "timestamp      int64\n",
       "title         object\n",
       "genres        object\n",
       "dtype: object"
      ]
     },
     "execution_count": 15,
     "metadata": {},
     "output_type": "execute_result"
    }
   ],
   "source": [
    "combined_data.dtypes"
   ]
  },
  {
   "cell_type": "markdown",
   "metadata": {
    "id": "69FAmXQgZ7Wh"
   },
   "source": [
    "# **Perform statistical analysis on the combined dataset**"
   ]
  },
  {
   "cell_type": "code",
   "execution_count": 18,
   "metadata": {
    "colab": {
     "base_uri": "https://localhost:8080/",
     "height": 301
    },
    "id": "L8VVEgsoP_ID",
    "outputId": "64891ead-5e89-43a2-b034-50ae1b7dc97a"
   },
   "outputs": [
    {
     "data": {
      "text/html": [
       "<div>\n",
       "<style scoped>\n",
       "    .dataframe tbody tr th:only-of-type {\n",
       "        vertical-align: middle;\n",
       "    }\n",
       "\n",
       "    .dataframe tbody tr th {\n",
       "        vertical-align: top;\n",
       "    }\n",
       "\n",
       "    .dataframe thead th {\n",
       "        text-align: right;\n",
       "    }\n",
       "</style>\n",
       "<table border=\"1\" class=\"dataframe\">\n",
       "  <thead>\n",
       "    <tr style=\"text-align: right;\">\n",
       "      <th></th>\n",
       "      <th>userId</th>\n",
       "      <th>movieId</th>\n",
       "      <th>rating</th>\n",
       "      <th>timestamp</th>\n",
       "    </tr>\n",
       "  </thead>\n",
       "  <tbody>\n",
       "    <tr>\n",
       "      <th>count</th>\n",
       "      <td>100000.000000</td>\n",
       "      <td>100000.000000</td>\n",
       "      <td>100000.000000</td>\n",
       "      <td>1.000000e+05</td>\n",
       "    </tr>\n",
       "    <tr>\n",
       "      <th>mean</th>\n",
       "      <td>79114.723200</td>\n",
       "      <td>334.587720</td>\n",
       "      <td>4.157390</td>\n",
       "      <td>1.148640e+09</td>\n",
       "    </tr>\n",
       "    <tr>\n",
       "      <th>std</th>\n",
       "      <td>46791.340841</td>\n",
       "      <td>140.834929</td>\n",
       "      <td>0.959397</td>\n",
       "      <td>2.455927e+08</td>\n",
       "    </tr>\n",
       "    <tr>\n",
       "      <th>min</th>\n",
       "      <td>1.000000</td>\n",
       "      <td>296.000000</td>\n",
       "      <td>0.500000</td>\n",
       "      <td>8.256125e+08</td>\n",
       "    </tr>\n",
       "    <tr>\n",
       "      <th>25%</th>\n",
       "      <td>38608.750000</td>\n",
       "      <td>296.000000</td>\n",
       "      <td>4.000000</td>\n",
       "      <td>9.388627e+08</td>\n",
       "    </tr>\n",
       "    <tr>\n",
       "      <th>50%</th>\n",
       "      <td>77110.500000</td>\n",
       "      <td>296.000000</td>\n",
       "      <td>4.500000</td>\n",
       "      <td>1.127178e+09</td>\n",
       "    </tr>\n",
       "    <tr>\n",
       "      <th>75%</th>\n",
       "      <td>119505.500000</td>\n",
       "      <td>296.000000</td>\n",
       "      <td>5.000000</td>\n",
       "      <td>1.392872e+09</td>\n",
       "    </tr>\n",
       "    <tr>\n",
       "      <th>max</th>\n",
       "      <td>162541.000000</td>\n",
       "      <td>899.000000</td>\n",
       "      <td>5.000000</td>\n",
       "      <td>1.574313e+09</td>\n",
       "    </tr>\n",
       "  </tbody>\n",
       "</table>\n",
       "</div>"
      ],
      "text/plain": [
       "              userId        movieId         rating     timestamp\n",
       "count  100000.000000  100000.000000  100000.000000  1.000000e+05\n",
       "mean    79114.723200     334.587720       4.157390  1.148640e+09\n",
       "std     46791.340841     140.834929       0.959397  2.455927e+08\n",
       "min         1.000000     296.000000       0.500000  8.256125e+08\n",
       "25%     38608.750000     296.000000       4.000000  9.388627e+08\n",
       "50%     77110.500000     296.000000       4.500000  1.127178e+09\n",
       "75%    119505.500000     296.000000       5.000000  1.392872e+09\n",
       "max    162541.000000     899.000000       5.000000  1.574313e+09"
      ]
     },
     "execution_count": 18,
     "metadata": {},
     "output_type": "execute_result"
    }
   ],
   "source": [
    "combined_data.describe()"
   ]
  },
  {
   "cell_type": "markdown",
   "metadata": {
    "id": "rjPzvssgJKL4"
   },
   "source": [
    "#**Movie Reccomendation Using NLP**"
   ]
  },
  {
   "cell_type": "code",
   "execution_count": 19,
   "metadata": {
    "id": "5fZl5gNQvjrf"
   },
   "outputs": [],
   "source": [
    "# Data dimension reduced due to reduce runtime and nullify the issues with system memory\n",
    "model_data = combined_data.iloc[65000:65010]"
   ]
  },
  {
   "cell_type": "code",
   "execution_count": 20,
   "metadata": {
    "id": "Lwely4aQ5vfd"
   },
   "outputs": [],
   "source": [
    "# Defining sentiment-based categories by ratings\n",
    "def categorize_sentiment(rating):\n",
    "    if rating >= 4.0:\n",
    "        return 'positive'\n",
    "    elif rating <= 2.0:\n",
    "        return 'negative'\n",
    "    else:\n",
    "        return 'neutral'"
   ]
  },
  {
   "cell_type": "code",
   "execution_count": 21,
   "metadata": {
    "id": "-2Ho6bhc729L"
   },
   "outputs": [],
   "source": [
    "# Applying sentiment categorization to ratings\n",
    "ratings['sentiment'] = ratings['rating'].apply(categorize_sentiment)"
   ]
  },
  {
   "cell_type": "code",
   "execution_count": 22,
   "metadata": {
    "colab": {
     "base_uri": "https://localhost:8080/",
     "height": 428
    },
    "id": "WJn0HTw78AhL",
    "outputId": "387a5955-1e36-4caf-aeb3-5a8040029e63",
    "scrolled": false
   },
   "outputs": [
    {
     "data": {
      "image/png": "[encoded data removed]",
      "text/plain": [
       "<Figure size 432x288 with 1 Axes>"
      ]
     },
     "metadata": {},
     "output_type": "display_data"
    }
   ],
   "source": [
    "labels = ['positive', 'neutral', 'negative']\n",
    "sizes = ratings['sentiment'].value_counts()\n",
    "colors = ['lightgreen', 'lightblue', 'yellow']\n",
    "\n",
    "plt.pie(sizes, labels=labels, autopct='%1.1f%%', colors = colors)\n",
    "plt.gca().set_title('Sentiment Distribution')\n",
    "plt.gca().legend(loc='upper right', labels=labels)\n",
    "plt.gca().set_aspect('equal')\n",
    "\n",
    "plt.show()"
   ]
  },
  {
   "cell_type": "code",
   "execution_count": 23,
   "metadata": {},
   "outputs": [],
   "source": [
    "# Function to train the RandomForestClassifier in batches\n",
    "def train_classifier_in_batches(data, batch_size=10000):\n",
    "    classifier = RandomForestClassifier(n_estimators=50, max_depth=10, random_state=42)  # Smaller model for memory efficiency\n",
    "    for start in range(0, data.shape[0], batch_size):\n",
    "        end = start + batch_size\n",
    "        batch_data = data.iloc[start:end]\n",
    "        classifier.fit(batch_data[['userId', 'movieId']], batch_data['sentiment'])\n",
    "    return classifier"
   ]
  },
  {
   "cell_type": "code",
   "execution_count": 24,
   "metadata": {},
   "outputs": [],
   "source": [
    "# Split the data for sentiment analysis\n",
    "train_data = ratings[['userId', 'movieId', 'sentiment']]\n",
    "\n",
    "# Train the classifier in batches\n",
    "classifier = train_classifier_in_batches(train_data)"
   ]
  },
  {
   "cell_type": "code",
   "execution_count": 25,
   "metadata": {},
   "outputs": [
    {
     "data": {
      "text/plain": [
       "3571"
      ]
     },
     "execution_count": 25,
     "metadata": {},
     "output_type": "execute_result"
    }
   ],
   "source": [
    "# Delete training data and suggest garbage collection\n",
    "del train_data\n",
    "gc.collect()"
   ]
  },
  {
   "cell_type": "code",
   "execution_count": 26,
   "metadata": {},
   "outputs": [
    {
     "data": {
      "text/plain": [
       "<surprise.prediction_algorithms.matrix_factorization.SVD at 0x16080cadc70>"
      ]
     },
     "execution_count": 26,
     "metadata": {},
     "output_type": "execute_result"
    }
   ],
   "source": [
    "# Loading Surprise dataset for collaborative filtering\n",
    "reader = Reader(rating_scale=(0.5, 5))\n",
    "data = Dataset.load_from_df(ratings[['userId', 'movieId', 'rating']], reader)\n",
    "\n",
    "# Training the collaborative filtering model using SVD\n",
    "trainset = data.build_full_trainset()\n",
    "algo = SVD()\n",
    "algo.fit(trainset)"
   ]
  },
  {
   "cell_type": "code",
   "execution_count": null,
   "metadata": {},
   "outputs": [],
   "source": []
  },
  {
   "cell_type": "code",
   "execution_count": 6,
   "metadata": {
    "id": "AJcZusvG73Lj"
   },
   "outputs": [],
   "source": [
    "def hybrid_recommendation_with_sentiment(user_id, title, n=10):\n",
    "    # Ensure 'movies', 'classifier', and 'algo' are accessible here\n",
    "    # Predicting sentiment for a target movie\n",
    "    target_movie_id = movies[movies['title'] == title]['movieId'].iloc[0]\n",
    "    predicted_sentiment = classifier.predict([[user_id, target_movie_id]])[0]\n",
    "    \n",
    "    # Obtaining recommendations using the collaborative filtering mechanism\n",
    "    cf_recommendations = algo.test([(user_id, target_movie_id, 4.0)])\n",
    "\n",
    "    # Adjusting scores based on sentiment\n",
    "    adjusted_scores = []\n",
    "    for prediction in cf_recommendations:\n",
    "        # Accessing the estimated score\n",
    "        score = prediction.est\n",
    "        # Adjusting the score based on sentiment\n",
    "        if predicted_sentiment == 'positive':\n",
    "            score += 0.1\n",
    "        elif predicted_sentiment == 'negative':\n",
    "            score -= 0.1\n",
    "        adjusted_scores.append((prediction.iid, score))\n",
    "\n",
    "    # Sorting and returning top recommendations to the calling block\n",
    "    adjusted_scores.sort(key=lambda x: x[1], reverse=True)\n",
    "    top_recommendations = [(movies[movies['movieId'] == int(movie_id)]['title'].iloc[0], score) for movie_id, score in adjusted_scores[:n]]\n",
    "    return top_recommendations\n"
   ]
  },
  {
   "cell_type": "code",
   "execution_count": 7,
   "metadata": {},
   "outputs": [],
   "source": [
    "def svd_recommendations(user_id, movies, algo, n=10):\n",
    "    \"\"\"\n",
    "    Generate recommendations using the SVD collaborative filtering model.\n",
    "\n",
    "    Parameters:\n",
    "    - user_id: The ID of the user for whom recommendations are to be made.\n",
    "    - movies: DataFrame containing movie titles and IDs.\n",
    "    - algo: Trained SVD collaborative filtering model.\n",
    "    - n: Number of top recommendations to return.\n",
    "\n",
    "    Returns:\n",
    "    - top_recommendations: A list of top 'n' recommended movie titles based on SVD predictions.\n",
    "    \"\"\"\n",
    "    # List to store each movie's predicted rating\n",
    "    predictions = []\n",
    "\n",
    "    # Iterate through all movie IDs in the movies DataFrame\n",
    "    for movie_id in movies['movieId'].unique():\n",
    "        # Predict the rating for the current user and movie\n",
    "        prediction = algo.predict(uid=str(user_id), iid=str(movie_id))\n",
    "        predictions.append((movie_id, prediction.est))\n",
    "\n",
    "    # Sort the predictions based on the estimated rating\n",
    "    predictions.sort(key=lambda x: x[1], reverse=True)\n",
    "\n",
    "    # Get the top 'n' movie IDs with the highest estimated ratings\n",
    "    top_movie_ids = [movie_id for movie_id, _ in predictions[:n]]\n",
    "\n",
    "    # Find corresponding movie titles\n",
    "    top_recommendations = [(movies[movies['movieId'] == movie_id]['title'].iloc[0], score) for movie_id, score in predictions[:n]]\n",
    "\n",
    "    return top_recommendations"
   ]
  },
  {
   "cell_type": "code",
   "execution_count": 8,
   "metadata": {},
   "outputs": [
    {
     "ename": "NameError",
     "evalue": "name 'movies' is not defined",
     "output_type": "error",
     "traceback": [
      "\u001b[1;31m---------------------------------------------------------------------------\u001b[0m",
      "\u001b[1;31mNameError\u001b[0m                                 Traceback (most recent call last)",
      "\u001b[1;32m~\\AppData\\Local\\Temp/ipykernel_1840/1489354222.py\u001b[0m in \u001b[0;36m<module>\u001b[1;34m\u001b[0m\n\u001b[0;32m      1\u001b[0m \u001b[1;31m# Example usage\u001b[0m\u001b[1;33m\u001b[0m\u001b[1;33m\u001b[0m\u001b[0m\n\u001b[0;32m      2\u001b[0m \u001b[0muser_id\u001b[0m \u001b[1;33m=\u001b[0m \u001b[0mrandom\u001b[0m\u001b[1;33m.\u001b[0m\u001b[0mrandint\u001b[0m\u001b[1;33m(\u001b[0m\u001b[1;36m65001\u001b[0m\u001b[1;33m,\u001b[0m \u001b[1;36m65011\u001b[0m\u001b[1;33m)\u001b[0m  \u001b[1;31m# Random user ID for demonstration\u001b[0m\u001b[1;33m\u001b[0m\u001b[1;33m\u001b[0m\u001b[0m\n\u001b[1;32m----> 3\u001b[1;33m \u001b[0mtop_svd_recommendations\u001b[0m \u001b[1;33m=\u001b[0m \u001b[0msvd_recommendations\u001b[0m\u001b[1;33m(\u001b[0m\u001b[0muser_id\u001b[0m\u001b[1;33m,\u001b[0m \u001b[0mmovies\u001b[0m\u001b[1;33m,\u001b[0m \u001b[0malgo\u001b[0m\u001b[1;33m,\u001b[0m \u001b[0mn\u001b[0m\u001b[1;33m=\u001b[0m\u001b[1;36m10\u001b[0m\u001b[1;33m)\u001b[0m\u001b[1;33m\u001b[0m\u001b[1;33m\u001b[0m\u001b[0m\n\u001b[0m\u001b[0;32m      4\u001b[0m \u001b[1;33m\u001b[0m\u001b[0m\n\u001b[0;32m      5\u001b[0m \u001b[0mprint\u001b[0m\u001b[1;33m(\u001b[0m\u001b[1;34m\"Top recommendations based on SVD:\"\u001b[0m\u001b[1;33m)\u001b[0m\u001b[1;33m\u001b[0m\u001b[1;33m\u001b[0m\u001b[0m\n",
      "\u001b[1;31mNameError\u001b[0m: name 'movies' is not defined"
     ]
    }
   ],
   "source": [
    "# Example usage\n",
    "user_id = random.randint(65001, 65011)  # Random user ID for demonstration\n",
    "top_svd_recommendations = svd_recommendations(user_id, movies, algo, n=10)\n",
    "\n",
    "print(\"Top recommendations based on SVD:\")\n",
    "for movie_title, estimated_rating in top_svd_recommendations:\n",
    "    print(f\"Movie Title: {movie_title}, Estimated Rating: {estimated_rating}\")\n",
    "\n",
    "\n"
   ]
  },
  {
   "cell_type": "code",
   "execution_count": 9,
   "metadata": {},
   "outputs": [],
   "source": [
    "# Hybrid Recommendations Function\n",
    "def hybrid_recommendation_with_sentiment(user_id, movies, algo, classifier, n=10):\n",
    "    svd_predictions = []\n",
    "    for movie_id in movies['movieId'].unique():\n",
    "        prediction = algo.predict(uid=str(user_id), iid=str(movie_id))\n",
    "        svd_predictions.append((movie_id, prediction.est))\n",
    "    svd_predictions.sort(key=lambda x: x[1], reverse=True)\n",
    "    top_svd_movie_ids = [movie_id for movie_id, _ in svd_predictions[:n]]\n",
    "\n",
    "    adjusted_scores = []\n",
    "    for movie_id in top_svd_movie_ids:\n",
    "        predicted_sentiment = classifier.predict([[user_id, movie_id]])[0]\n",
    "        original_score = next(score for mid, score in svd_predictions if mid == movie_id)\n",
    "        adjusted_score = original_score + 0.1 if predicted_sentiment == 'positive' else original_score - 0.1\n",
    "        adjusted_scores.append((movie_id, adjusted_score))\n",
    "\n",
    "    adjusted_scores.sort(key=lambda x: x[1], reverse=True)\n",
    "    top_recommendations = [(movies[movies['movieId'] == movie_id]['title'].iloc[0], score) for movie_id, score in adjusted_scores[:n]]\n",
    "    return top_recommendations"
   ]
  },
  {
   "cell_type": "code",
   "execution_count": 10,
   "metadata": {},
   "outputs": [
    {
     "ename": "NameError",
     "evalue": "name 'movies' is not defined",
     "output_type": "error",
     "traceback": [
      "\u001b[1;31m---------------------------------------------------------------------------\u001b[0m",
      "\u001b[1;31mNameError\u001b[0m                                 Traceback (most recent call last)",
      "\u001b[1;32m~\\AppData\\Local\\Temp/ipykernel_1840/3655527552.py\u001b[0m in \u001b[0;36m<module>\u001b[1;34m\u001b[0m\n\u001b[0;32m      3\u001b[0m \u001b[1;33m\u001b[0m\u001b[0m\n\u001b[0;32m      4\u001b[0m \u001b[1;31m# SVD Recommendations\u001b[0m\u001b[1;33m\u001b[0m\u001b[1;33m\u001b[0m\u001b[0m\n\u001b[1;32m----> 5\u001b[1;33m \u001b[0mtop_svd_recommendations\u001b[0m \u001b[1;33m=\u001b[0m \u001b[0msvd_recommendations\u001b[0m\u001b[1;33m(\u001b[0m\u001b[0muser_id\u001b[0m\u001b[1;33m,\u001b[0m \u001b[0mmovies\u001b[0m\u001b[1;33m,\u001b[0m \u001b[0malgo\u001b[0m\u001b[1;33m,\u001b[0m \u001b[0mn\u001b[0m\u001b[1;33m=\u001b[0m\u001b[1;36m10\u001b[0m\u001b[1;33m)\u001b[0m\u001b[1;33m\u001b[0m\u001b[1;33m\u001b[0m\u001b[0m\n\u001b[0m\u001b[0;32m      6\u001b[0m \u001b[0mprint\u001b[0m\u001b[1;33m(\u001b[0m\u001b[1;34m\"Top recommendations based on SVD:\"\u001b[0m\u001b[1;33m)\u001b[0m\u001b[1;33m\u001b[0m\u001b[1;33m\u001b[0m\u001b[0m\n\u001b[0;32m      7\u001b[0m \u001b[1;32mfor\u001b[0m \u001b[0mmovie_title\u001b[0m\u001b[1;33m,\u001b[0m \u001b[0mestimated_rating\u001b[0m \u001b[1;32min\u001b[0m \u001b[0mtop_svd_recommendations\u001b[0m\u001b[1;33m:\u001b[0m\u001b[1;33m\u001b[0m\u001b[1;33m\u001b[0m\u001b[0m\n",
      "\u001b[1;31mNameError\u001b[0m: name 'movies' is not defined"
     ]
    }
   ],
   "source": [
    "# Example usage\n",
    "user_id = random.randint(65001, 65011)  # Random user ID for demonstration\n",
    "\n",
    "# SVD Recommendations\n",
    "top_svd_recommendations = svd_recommendations(user_id, movies, algo, n=10)\n",
    "print(\"Top recommendations based on SVD:\")\n",
    "for movie_title, estimated_rating in top_svd_recommendations:\n",
    "    print(f\"Movie Title: {movie_title}, Estimated Rating: {estimated_rating}\")"
   ]
  },
  {
   "cell_type": "code",
   "execution_count": 11,
   "metadata": {
    "scrolled": false
   },
   "outputs": [
    {
     "ename": "NameError",
     "evalue": "name 'movies' is not defined",
     "output_type": "error",
     "traceback": [
      "\u001b[1;31m---------------------------------------------------------------------------\u001b[0m",
      "\u001b[1;31mNameError\u001b[0m                                 Traceback (most recent call last)",
      "\u001b[1;32m~\\AppData\\Local\\Temp/ipykernel_1840/1581900639.py\u001b[0m in \u001b[0;36m<module>\u001b[1;34m\u001b[0m\n\u001b[0;32m      1\u001b[0m \u001b[1;31m# Hybrid Recommendations\u001b[0m\u001b[1;33m\u001b[0m\u001b[1;33m\u001b[0m\u001b[0m\n\u001b[1;32m----> 2\u001b[1;33m \u001b[0mtop_hybrid_recommendations\u001b[0m \u001b[1;33m=\u001b[0m \u001b[0mhybrid_recommendation_with_sentiment\u001b[0m\u001b[1;33m(\u001b[0m\u001b[0muser_id\u001b[0m\u001b[1;33m,\u001b[0m \u001b[0mmovies\u001b[0m\u001b[1;33m,\u001b[0m \u001b[0malgo\u001b[0m\u001b[1;33m,\u001b[0m \u001b[0mclassifier\u001b[0m\u001b[1;33m,\u001b[0m \u001b[0mn\u001b[0m\u001b[1;33m=\u001b[0m\u001b[1;36m10\u001b[0m\u001b[1;33m)\u001b[0m\u001b[1;33m\u001b[0m\u001b[1;33m\u001b[0m\u001b[0m\n\u001b[0m\u001b[0;32m      3\u001b[0m \u001b[0mprint\u001b[0m\u001b[1;33m(\u001b[0m\u001b[1;34m\"\\nTop recommendations based on Hybrid model with sentiment adjustment:\"\u001b[0m\u001b[1;33m)\u001b[0m\u001b[1;33m\u001b[0m\u001b[1;33m\u001b[0m\u001b[0m\n\u001b[0;32m      4\u001b[0m \u001b[1;32mfor\u001b[0m \u001b[0mmovie_title\u001b[0m\u001b[1;33m,\u001b[0m \u001b[0mscore\u001b[0m \u001b[1;32min\u001b[0m \u001b[0mtop_hybrid_recommendations\u001b[0m\u001b[1;33m:\u001b[0m\u001b[1;33m\u001b[0m\u001b[1;33m\u001b[0m\u001b[0m\n\u001b[0;32m      5\u001b[0m     \u001b[0mprint\u001b[0m\u001b[1;33m(\u001b[0m\u001b[1;34mf\"Movie Title: {movie_title}, Score: {score}\"\u001b[0m\u001b[1;33m)\u001b[0m\u001b[1;33m\u001b[0m\u001b[1;33m\u001b[0m\u001b[0m\n",
      "\u001b[1;31mNameError\u001b[0m: name 'movies' is not defined"
     ]
    }
   ],
   "source": [
    "# Hybrid Recommendations\n",
    "top_hybrid_recommendations = hybrid_recommendation_with_sentiment(user_id, movies, algo, classifier, n=10)\n",
    "print(\"\\nTop recommendations based on Hybrid model with sentiment adjustment:\")\n",
    "for movie_title, score in top_hybrid_recommendations:\n",
    "    print(f\"Movie Title: {movie_title}, Score: {score}\")"
   ]
  },
  {
   "cell_type": "code",
   "execution_count": null,
   "metadata": {},
   "outputs": [],
   "source": []
  },
  {
   "cell_type": "code",
   "execution_count": null,
   "metadata": {},
   "outputs": [],
   "source": []
  },
  {
   "cell_type": "code",
   "execution_count": null,
   "metadata": {},
   "outputs": [],
   "source": []
  },
  {
   "cell_type": "markdown",
   "metadata": {},
   "source": [
    "## Content-Based FIltering alogn with NLP NER imposition impacts"
   ]
  },
  {
   "cell_type": "code",
   "execution_count": 48,
   "metadata": {},
   "outputs": [],
   "source": [
    "from sklearn.feature_extraction.text import TfidfVectorizer\n",
    "from sklearn.metrics.pairwise import cosine_similarity\n",
    "\n",
    "# Example: movies['genres'] = ['Action|Adventure', 'Comedy|Drama', ...]\n",
    "\n",
    "# Convert genres to TF-IDF features\n",
    "tfidf_vectorizer = TfidfVectorizer(token_pattern='(?u)\\\\b\\\\w+\\\\b')  # Adjust token pattern to consider single letters (e.g., 'A')\n",
    "tfidf_matrix = tfidf_vectorizer.fit_transform(movies['genres'])\n"
   ]
  },
  {
   "cell_type": "code",
   "execution_count": 49,
   "metadata": {},
   "outputs": [],
   "source": [
    "cosine_sim = cosine_similarity(tfidf_matrix, tfidf_matrix)\n"
   ]
  },
  {
   "cell_type": "code",
   "execution_count": 51,
   "metadata": {},
   "outputs": [],
   "source": [
    "def content_based_recommendations_genres(movie_index, cosine_sim, n=10):\n",
    "    sim_scores = list(enumerate(cosine_sim[movie_index]))\n",
    "    sim_scores = sorted(sim_scores, key=lambda x: x[1], reverse=True)\n",
    "    sim_scores = sim_scores[1:n+1]  # Exclude self\n",
    "    movie_indices = [i[0] for i in sim_scores]\n",
    "    return movies.iloc[movie_indices][['title', 'genres']]\n"
   ]
  },
  {
   "cell_type": "code",
   "execution_count": 53,
   "metadata": {},
   "outputs": [
    {
     "name": "stdout",
     "output_type": "stream",
     "text": [
      "Recommendations based on genres:\n",
      "                                                   title  \\\n",
      "2203                                         Antz (1998)   \n",
      "3021                                  Toy Story 2 (1999)   \n",
      "3653      Adventures of Rocky and Bullwinkle, The (2000)   \n",
      "3912                    Emperor's New Groove, The (2000)   \n",
      "4780                               Monsters, Inc. (2001)   \n",
      "9949   DuckTales: The Movie - Treasure of the Lost La...   \n",
      "10773                                   Wild, The (2006)   \n",
      "11604                             Shrek the Third (2007)   \n",
      "12969                     Tale of Despereaux, The (2008)   \n",
      "17431  Asterix and the Vikings (Astérix et les Viking...   \n",
      "\n",
      "                                            genres  \n",
      "2203   Adventure|Animation|Children|Comedy|Fantasy  \n",
      "3021   Adventure|Animation|Children|Comedy|Fantasy  \n",
      "3653   Adventure|Animation|Children|Comedy|Fantasy  \n",
      "3912   Adventure|Animation|Children|Comedy|Fantasy  \n",
      "4780   Adventure|Animation|Children|Comedy|Fantasy  \n",
      "9949   Adventure|Animation|Children|Comedy|Fantasy  \n",
      "10773  Adventure|Animation|Children|Comedy|Fantasy  \n",
      "11604  Adventure|Animation|Children|Comedy|Fantasy  \n",
      "12969  Adventure|Animation|Children|Comedy|Fantasy  \n",
      "17431  Adventure|Animation|Children|Comedy|Fantasy  \n"
     ]
    }
   ],
   "source": [
    "movie_index = 0  # Index of a sample movie\n",
    "\n",
    "# Recommendations based on genres\n",
    "genre_recommendations = content_based_recommendations_genres(movie_index, cosine_sim)\n",
    "print(\"Recommendations based on genres:\")\n",
    "print(genre_recommendations)"
   ]
  },
  {
   "cell_type": "code",
   "execution_count": 54,
   "metadata": {},
   "outputs": [],
   "source": [
    "# Create a copy of the original 'movies' DataFrame for NER processing\n",
    "temp_movies = movies.copy()\n"
   ]
  },
  {
   "cell_type": "code",
   "execution_count": 55,
   "metadata": {},
   "outputs": [],
   "source": [
    "import spacy\n",
    "\n",
    "# Load the English language model from SpaCy\n",
    "nlp = spacy.load('en_core_web_sm')\n",
    "\n",
    "# Function to extract named entities from a title\n",
    "def extract_named_entities(title):\n",
    "    doc = nlp(title)\n",
    "    return ' '.join([ent.text for ent in doc.ents])\n",
    "\n",
    "# Apply the function to each movie title in the temporary dataset\n",
    "temp_movies['title_entities'] = temp_movies['title'].apply(extract_named_entities)\n"
   ]
  },
  {
   "cell_type": "code",
   "execution_count": 56,
   "metadata": {
    "scrolled": true
   },
   "outputs": [
    {
     "data": {
      "text/html": [
       "<div>\n",
       "<style scoped>\n",
       "    .dataframe tbody tr th:only-of-type {\n",
       "        vertical-align: middle;\n",
       "    }\n",
       "\n",
       "    .dataframe tbody tr th {\n",
       "        vertical-align: top;\n",
       "    }\n",
       "\n",
       "    .dataframe thead th {\n",
       "        text-align: right;\n",
       "    }\n",
       "</style>\n",
       "<table border=\"1\" class=\"dataframe\">\n",
       "  <thead>\n",
       "    <tr style=\"text-align: right;\">\n",
       "      <th></th>\n",
       "      <th>movieId</th>\n",
       "      <th>title</th>\n",
       "      <th>genres</th>\n",
       "      <th>title_entities</th>\n",
       "    </tr>\n",
       "  </thead>\n",
       "  <tbody>\n",
       "    <tr>\n",
       "      <th>0</th>\n",
       "      <td>1</td>\n",
       "      <td>Toy Story (1995)</td>\n",
       "      <td>Adventure|Animation|Children|Comedy|Fantasy</td>\n",
       "      <td>Toy Story 1995</td>\n",
       "    </tr>\n",
       "    <tr>\n",
       "      <th>1</th>\n",
       "      <td>2</td>\n",
       "      <td>Jumanji (1995)</td>\n",
       "      <td>Adventure|Children|Fantasy</td>\n",
       "      <td>Jumanji 1995</td>\n",
       "    </tr>\n",
       "    <tr>\n",
       "      <th>2</th>\n",
       "      <td>3</td>\n",
       "      <td>Grumpier Old Men (1995)</td>\n",
       "      <td>Comedy|Romance</td>\n",
       "      <td>Grumpier Old Men 1995</td>\n",
       "    </tr>\n",
       "    <tr>\n",
       "      <th>3</th>\n",
       "      <td>4</td>\n",
       "      <td>Waiting to Exhale (1995)</td>\n",
       "      <td>Comedy|Drama|Romance</td>\n",
       "      <td>1995</td>\n",
       "    </tr>\n",
       "    <tr>\n",
       "      <th>4</th>\n",
       "      <td>5</td>\n",
       "      <td>Father of the Bride Part II (1995)</td>\n",
       "      <td>Comedy</td>\n",
       "      <td></td>\n",
       "    </tr>\n",
       "    <tr>\n",
       "      <th>5</th>\n",
       "      <td>6</td>\n",
       "      <td>Heat (1995)</td>\n",
       "      <td>Action|Crime|Thriller</td>\n",
       "      <td>1995</td>\n",
       "    </tr>\n",
       "    <tr>\n",
       "      <th>6</th>\n",
       "      <td>7</td>\n",
       "      <td>Sabrina (1995)</td>\n",
       "      <td>Comedy|Romance</td>\n",
       "      <td>Sabrina 1995</td>\n",
       "    </tr>\n",
       "    <tr>\n",
       "      <th>7</th>\n",
       "      <td>8</td>\n",
       "      <td>Tom and Huck (1995)</td>\n",
       "      <td>Adventure|Children</td>\n",
       "      <td>Tom Huck 1995</td>\n",
       "    </tr>\n",
       "    <tr>\n",
       "      <th>8</th>\n",
       "      <td>9</td>\n",
       "      <td>Sudden Death (1995)</td>\n",
       "      <td>Action</td>\n",
       "      <td>Sudden Death</td>\n",
       "    </tr>\n",
       "    <tr>\n",
       "      <th>9</th>\n",
       "      <td>10</td>\n",
       "      <td>GoldenEye (1995)</td>\n",
       "      <td>Action|Adventure|Thriller</td>\n",
       "      <td>GoldenEye 1995</td>\n",
       "    </tr>\n",
       "  </tbody>\n",
       "</table>\n",
       "</div>"
      ],
      "text/plain": [
       "   movieId                               title  \\\n",
       "0        1                    Toy Story (1995)   \n",
       "1        2                      Jumanji (1995)   \n",
       "2        3             Grumpier Old Men (1995)   \n",
       "3        4            Waiting to Exhale (1995)   \n",
       "4        5  Father of the Bride Part II (1995)   \n",
       "5        6                         Heat (1995)   \n",
       "6        7                      Sabrina (1995)   \n",
       "7        8                 Tom and Huck (1995)   \n",
       "8        9                 Sudden Death (1995)   \n",
       "9       10                    GoldenEye (1995)   \n",
       "\n",
       "                                        genres         title_entities  \n",
       "0  Adventure|Animation|Children|Comedy|Fantasy         Toy Story 1995  \n",
       "1                   Adventure|Children|Fantasy           Jumanji 1995  \n",
       "2                               Comedy|Romance  Grumpier Old Men 1995  \n",
       "3                         Comedy|Drama|Romance                   1995  \n",
       "4                                       Comedy                         \n",
       "5                        Action|Crime|Thriller                   1995  \n",
       "6                               Comedy|Romance           Sabrina 1995  \n",
       "7                           Adventure|Children          Tom Huck 1995  \n",
       "8                                       Action           Sudden Death  \n",
       "9                    Action|Adventure|Thriller         GoldenEye 1995  "
      ]
     },
     "execution_count": 56,
     "metadata": {},
     "output_type": "execute_result"
    }
   ],
   "source": [
    "temp_movies.head(10)"
   ]
  },
  {
   "cell_type": "code",
   "execution_count": 57,
   "metadata": {},
   "outputs": [],
   "source": [
    "tfidf_vectorizer_entities = TfidfVectorizer()\n",
    "tfidf_matrix_entities = tfidf_vectorizer_entities.fit_transform(temp_movies['title_entities'])\n"
   ]
  },
  {
   "cell_type": "code",
   "execution_count": 58,
   "metadata": {},
   "outputs": [],
   "source": [
    "from sklearn.metrics.pairwise import cosine_similarity\n",
    "\n",
    "cosine_sim_entities = cosine_similarity(tfidf_matrix_entities, tfidf_matrix_entities)\n"
   ]
  },
  {
   "cell_type": "code",
   "execution_count": 59,
   "metadata": {},
   "outputs": [],
   "source": [
    "def content_based_recommendations_entities(movie_index, cosine_sim, n=10):\n",
    "    sim_scores = list(enumerate(cosine_sim[movie_index]))\n",
    "    sim_scores = sorted(sim_scores, key=lambda x: x[1], reverse=True)\n",
    "    sim_scores = sim_scores[1:n+1]  # Exclude self\n",
    "    movie_indices = [i[0] for i in sim_scores]\n",
    "    return temp_movies.iloc[movie_indices][['title', 'title_entities']]\n"
   ]
  },
  {
   "cell_type": "code",
   "execution_count": 60,
   "metadata": {
    "scrolled": true
   },
   "outputs": [
    {
     "name": "stdout",
     "output_type": "stream",
     "text": [
      "Recommendations based on NER extracted from titles:\n",
      "                                         title        title_entities\n",
      "24064        Toy Story That Time Forgot (2014)        Toy Story 2014\n",
      "22634        Toy Story Toons: Small Fry (2011)       Toy Story Toons\n",
      "24062  Toy Story Toons: Partysaurus Rex (2012)  Toy Story Toons 2012\n",
      "33603                       Toy Masters (2014)      Toy Masters 2014\n",
      "40614                       The Toy Box (1971)      The Toy Box 1971\n",
      "24693                      The Toy Wife (1938)     The Toy Wife 1938\n",
      "3                     Waiting to Exhale (1995)                  1995\n",
      "5                                  Heat (1995)                  1995\n",
      "15                               Casino (1995)                  1995\n",
      "19                          Money Train (1995)                  1995\n"
     ]
    }
   ],
   "source": [
    "movie_index = 0  # Index of a sample movie from the original 'movies' DataFrame\n",
    "\n",
    "# Recommendations based on NER (using the temporary dataset)\n",
    "ner_recommendations = content_based_recommendations_entities(movie_index, cosine_sim_entities)\n",
    "print(\"Recommendations based on NER extracted from titles:\")\n",
    "print(ner_recommendations)"
   ]
  },
  {
   "cell_type": "code",
   "execution_count": 70,
   "metadata": {},
   "outputs": [],
   "source": [
    "def weighted_combined_recommendations(movie_index, cosine_sim_genres, cosine_sim_ner, movies, temp_movies, weight_genre=0.8, weight_ner=0.2, n=10):\n",
    "    # Genre-based recommendations\n",
    "    genre_indices = content_based_recommendations_genres(movie_index, cosine_sim_genres, n*2).index  # Get more recommendations to filter later\n",
    "    \n",
    "    # NER-based recommendations\n",
    "    ner_indices = content_based_recommendations_genres(movie_index, cosine_sim_ner, n).index\n",
    "    \n",
    "    # Initialize dictionary to keep track of scores\n",
    "    combined_scores = {}\n",
    "    \n",
    "    # Assign scores based on genre similarity\n",
    "    for idx in genre_indices:\n",
    "        combined_scores[idx] = combined_scores.get(idx, 0) + weight_genre\n",
    "    \n",
    "    # Update scores based on NER similarity\n",
    "    for idx in ner_indices:\n",
    "        if idx in combined_scores:\n",
    "            # If the movie is already recommended by genre, enhance its score\n",
    "            combined_scores[idx] += weight_ner\n",
    "        else:\n",
    "            # If not, add it with the NER weight\n",
    "            combined_scores[idx] = weight_ner\n",
    "    \n",
    "    # Sort movies by combined score\n",
    "    sorted_scores = sorted(combined_scores.items(), key=lambda x: x[1], reverse=True)\n",
    "    \n",
    "    # Select top n movies\n",
    "    top_indices = [idx for idx, score in sorted_scores[:n]]\n",
    "    \n",
    "    # Fetch top movies from the original movies DataFrame\n",
    "    top_movies = movies.loc[top_indices]\n",
    "    \n",
    "    return top_movies[['title', 'genres']]\n"
   ]
  },
  {
   "cell_type": "code",
   "execution_count": 71,
   "metadata": {
    "scrolled": false
   },
   "outputs": [
    {
     "name": "stdout",
     "output_type": "stream",
     "text": [
      "Weighted combined recommendations (80% genre, 20% NER):\n",
      "Toy Story Toons: Small Fry (2011) - Genres: Adventure|Animation|Children|Comedy|Fantasy\n",
      "Antz (1998) - Genres: Adventure|Animation|Children|Comedy|Fantasy\n",
      "Toy Story 2 (1999) - Genres: Adventure|Animation|Children|Comedy|Fantasy\n",
      "Adventures of Rocky and Bullwinkle, The (2000) - Genres: Adventure|Animation|Children|Comedy|Fantasy\n",
      "Emperor's New Groove, The (2000) - Genres: Adventure|Animation|Children|Comedy|Fantasy\n",
      "Monsters, Inc. (2001) - Genres: Adventure|Animation|Children|Comedy|Fantasy\n",
      "DuckTales: The Movie - Treasure of the Lost Lamp (1990) - Genres: Adventure|Animation|Children|Comedy|Fantasy\n",
      "Wild, The (2006) - Genres: Adventure|Animation|Children|Comedy|Fantasy\n",
      "Shrek the Third (2007) - Genres: Adventure|Animation|Children|Comedy|Fantasy\n",
      "Tale of Despereaux, The (2008) - Genres: Adventure|Animation|Children|Comedy|Fantasy\n"
     ]
    }
   ],
   "source": [
    "movie_index = 0  # Index of a sample movie from the original 'movies' DataFrame\n",
    "\n",
    "# Generate weighted combined recommendations\n",
    "weighted_recommendations = weighted_combined_recommendations(movie_index, cosine_sim, cosine_sim_entities, movies, temp_movies, n=10)\n",
    "print(\"Weighted combined recommendations (80% genre, 20% NER):\")\n",
    "for index, row in weighted_recommendations.iterrows():\n",
    "    print(f\"{row['title']} - Genres: {row['genres']}\")\n"
   ]
  },
  {
   "cell_type": "code",
   "execution_count": 80,
   "metadata": {},
   "outputs": [
    {
     "data": {
      "text/html": [
       "<div>\n",
       "<style scoped>\n",
       "    .dataframe tbody tr th:only-of-type {\n",
       "        vertical-align: middle;\n",
       "    }\n",
       "\n",
       "    .dataframe tbody tr th {\n",
       "        vertical-align: top;\n",
       "    }\n",
       "\n",
       "    .dataframe thead th {\n",
       "        text-align: right;\n",
       "    }\n",
       "</style>\n",
       "<table border=\"1\" class=\"dataframe\">\n",
       "  <thead>\n",
       "    <tr style=\"text-align: right;\">\n",
       "      <th></th>\n",
       "      <th>movieId</th>\n",
       "      <th>title</th>\n",
       "      <th>genres</th>\n",
       "    </tr>\n",
       "  </thead>\n",
       "  <tbody>\n",
       "    <tr>\n",
       "      <th>0</th>\n",
       "      <td>1</td>\n",
       "      <td>Toy Story (1995)</td>\n",
       "      <td>Adventure|Animation|Children|Comedy|Fantasy</td>\n",
       "    </tr>\n",
       "    <tr>\n",
       "      <th>1</th>\n",
       "      <td>2</td>\n",
       "      <td>Jumanji (1995)</td>\n",
       "      <td>Adventure|Children|Fantasy</td>\n",
       "    </tr>\n",
       "    <tr>\n",
       "      <th>2</th>\n",
       "      <td>3</td>\n",
       "      <td>Grumpier Old Men (1995)</td>\n",
       "      <td>Comedy|Romance</td>\n",
       "    </tr>\n",
       "    <tr>\n",
       "      <th>3</th>\n",
       "      <td>4</td>\n",
       "      <td>Waiting to Exhale (1995)</td>\n",
       "      <td>Comedy|Drama|Romance</td>\n",
       "    </tr>\n",
       "    <tr>\n",
       "      <th>4</th>\n",
       "      <td>5</td>\n",
       "      <td>Father of the Bride Part II (1995)</td>\n",
       "      <td>Comedy</td>\n",
       "    </tr>\n",
       "    <tr>\n",
       "      <th>5</th>\n",
       "      <td>6</td>\n",
       "      <td>Heat (1995)</td>\n",
       "      <td>Action|Crime|Thriller</td>\n",
       "    </tr>\n",
       "    <tr>\n",
       "      <th>6</th>\n",
       "      <td>7</td>\n",
       "      <td>Sabrina (1995)</td>\n",
       "      <td>Comedy|Romance</td>\n",
       "    </tr>\n",
       "    <tr>\n",
       "      <th>7</th>\n",
       "      <td>8</td>\n",
       "      <td>Tom and Huck (1995)</td>\n",
       "      <td>Adventure|Children</td>\n",
       "    </tr>\n",
       "    <tr>\n",
       "      <th>8</th>\n",
       "      <td>9</td>\n",
       "      <td>Sudden Death (1995)</td>\n",
       "      <td>Action</td>\n",
       "    </tr>\n",
       "    <tr>\n",
       "      <th>9</th>\n",
       "      <td>10</td>\n",
       "      <td>GoldenEye (1995)</td>\n",
       "      <td>Action|Adventure|Thriller</td>\n",
       "    </tr>\n",
       "  </tbody>\n",
       "</table>\n",
       "</div>"
      ],
      "text/plain": [
       "   movieId                               title  \\\n",
       "0        1                    Toy Story (1995)   \n",
       "1        2                      Jumanji (1995)   \n",
       "2        3             Grumpier Old Men (1995)   \n",
       "3        4            Waiting to Exhale (1995)   \n",
       "4        5  Father of the Bride Part II (1995)   \n",
       "5        6                         Heat (1995)   \n",
       "6        7                      Sabrina (1995)   \n",
       "7        8                 Tom and Huck (1995)   \n",
       "8        9                 Sudden Death (1995)   \n",
       "9       10                    GoldenEye (1995)   \n",
       "\n",
       "                                        genres  \n",
       "0  Adventure|Animation|Children|Comedy|Fantasy  \n",
       "1                   Adventure|Children|Fantasy  \n",
       "2                               Comedy|Romance  \n",
       "3                         Comedy|Drama|Romance  \n",
       "4                                       Comedy  \n",
       "5                        Action|Crime|Thriller  \n",
       "6                               Comedy|Romance  \n",
       "7                           Adventure|Children  \n",
       "8                                       Action  \n",
       "9                    Action|Adventure|Thriller  "
      ]
     },
     "execution_count": 80,
     "metadata": {},
     "output_type": "execute_result"
    }
   ],
   "source": [
    "movies.head(10)"
   ]
  },
  {
   "cell_type": "code",
   "execution_count": 81,
   "metadata": {},
   "outputs": [],
   "source": [
    "# Function to get recommendations based on cosine similarity for Content-based filtering\n",
    "def get_recommendations(movie_idx, cosine_sim_matrix, n=10):\n",
    "    sim_scores = list(enumerate(cosine_sim_matrix[movie_idx]))\n",
    "    sim_scores = sorted(sim_scores, key=lambda x: x[1], reverse=True)\n",
    "    movie_indices = [i[0] for i in sim_scores[1:n+1]]\n",
    "    return movies.iloc[movie_indices]\n",
    "\n",
    "# Final hybrid recommendation function with weighted collab filtering ,content-based filtering including NLP.\n",
    "def final_hybrid_recommendation(user_id, movie_idx, n=10):\n",
    "    # Get top-n genre-based recommendations\n",
    "    genre_recs = get_recommendations(movie_idx, cosine_sim, n)\n",
    "    \n",
    "    # Get top-n entity-based recommendations\n",
    "    entity_recs = get_recommendations(movie_idx, cosine_sim_entities, n)\n",
    "\n",
    "    # Combine and deduplicate recommendations\n",
    "    combined_recs = pd.concat([genre_recs, entity_recs]).drop_duplicates().head(n)\n",
    "    \n",
    "    # Adjust scores based on sentiment analysis and collaborative filtering\n",
    "    final_scores = []\n",
    "    for _, row in combined_recs.iterrows():\n",
    "        # SVD prediction for collaborative filtering score\n",
    "        svd_pred = algo.predict(uid=user_id, iid=row['movieId']).est\n",
    "        \n",
    "        # Sentiment analysis adjustment\n",
    "        sentiment_pred = classifier.predict([[user_id, row['movieId']]])[0]\n",
    "        sentiment_adjustment = 0.1 if sentiment_pred == 'positive' else -0.1 if sentiment_pred == 'negative' else 0\n",
    "        \n",
    "        final_score = svd_pred + sentiment_adjustment\n",
    "        final_scores.append((row['title'], final_score))\n",
    "    \n",
    "    # Sort recommendations by final score\n",
    "    final_scores.sort(key=lambda x: x[1], reverse=True)\n",
    "    \n",
    "    return final_scores[:n]\n",
    "\n"
   ]
  },
  {
   "cell_type": "code",
   "execution_count": 82,
   "metadata": {
    "scrolled": true
   },
   "outputs": [
    {
     "name": "stdout",
     "output_type": "stream",
     "text": [
      "Final Hybrid Recommendations:\n",
      "Monsters, Inc. (2001): 3.8490598730383416\n",
      "Emperor's New Groove, The (2000): 3.842089797777435\n",
      "Toy Story 2 (1999): 3.590477492695138\n",
      "DuckTales: The Movie - Treasure of the Lost Lamp (1990): 3.451761818761212\n",
      "Asterix and the Vikings (Astérix et les Vikings) (2006): 3.3886823408906324\n",
      "Antz (1998): 3.2028772294426804\n",
      "Shrek the Third (2007): 3.1377783819259\n",
      "Wild, The (2006): 2.8436908149432374\n",
      "Tale of Despereaux, The (2008): 2.804102244599292\n",
      "Adventures of Rocky and Bullwinkle, The (2000): 2.4761165179099045\n"
     ]
    }
   ],
   "source": [
    "user_id = random.randint(65001, 65011)  # Example user ID\n",
    "movie_idx = 0  # Toy Story\n",
    "\n",
    "final_recommendations = final_hybrid_recommendation(user_id, movie_idx, 10)\n",
    "print(\"Final Hybrid Recommendations:\")\n",
    "for title, score in final_recommendations:\n",
    "    print(f\"{title}: {score}\")\n"
   ]
  },
  {
   "cell_type": "code",
   "execution_count": 93,
   "metadata": {},
   "outputs": [],
   "source": [
    "# Function to compile recommendation results to Pandas dataframe\n",
    "def compile_recommendation_results(user_id, movie_idx, movies, algo, classifier, n=10):\n",
    "    # Initialize DataFrame to store results\n",
    "    results_df = pd.DataFrame(columns=['SVD', 'SVD_Sentiment', 'Genre_Based', 'NER_Based', 'Weighted_Genre_NER', 'Final_Hybrid'])\n",
    "\n",
    "    # SVD Recommendations\n",
    "    svd_recs = svd_recommendations(user_id, movies, algo, n)\n",
    "    results_df['SVD'] = [title for title, _ in svd_recs]\n",
    "\n",
    "    # SVD with Sentiment Adjustments\n",
    "    svd_sentiment_recs = hybrid_recommendation_with_sentiment(user_id, movies, algo, classifier, n=10)\n",
    "    results_df['SVD_Sentiment'] = [title for title, _ in svd_sentiment_recs]\n",
    "\n",
    "    # Genre-Based Recommendations\n",
    "    genre_recs = get_recommendations(movie_idx, cosine_sim, n)\n",
    "    results_df['Genre_Based'] = genre_recs['title'].values\n",
    "\n",
    "    # NER-Based Recommendations\n",
    "    ner_recs = get_recommendations(movie_idx, cosine_sim_entities, n)\n",
    "    results_df['NER_Based'] = ner_recs['title'].values\n",
    "\n",
    "    # Weighted Genre + NER Recommendations\n",
    "    weighted_genre_ner_recs = weighted_combined_recommendations(movie_idx, cosine_sim, cosine_sim_entities, movies, temp_movies, n=n)\n",
    "    results_df['Weighted_Genre_NER'] = weighted_genre_ner_recs['title'].values\n",
    "\n",
    "    # Final Hybrid Recommendations\n",
    "    final_hybrid_recs = final_hybrid_recommendation(user_id, movie_idx, 10)\n",
    "    results_df['Final_Hybrid'] = [title for title, _ in final_hybrid_recs]\n",
    "\n",
    "    return results_df\n"
   ]
  },
  {
   "cell_type": "code",
   "execution_count": 94,
   "metadata": {},
   "outputs": [
    {
     "name": "stdout",
     "output_type": "stream",
     "text": [
      "                                  SVD                       SVD_Sentiment  \\\n",
      "0                    Toy Story (1995)                    Toy Story (1995)   \n",
      "1                      Jumanji (1995)                      Jumanji (1995)   \n",
      "2             Grumpier Old Men (1995)             Grumpier Old Men (1995)   \n",
      "3            Waiting to Exhale (1995)            Waiting to Exhale (1995)   \n",
      "4  Father of the Bride Part II (1995)  Father of the Bride Part II (1995)   \n",
      "5                         Heat (1995)                         Heat (1995)   \n",
      "6                      Sabrina (1995)                      Sabrina (1995)   \n",
      "7                 Tom and Huck (1995)                 Tom and Huck (1995)   \n",
      "8                 Sudden Death (1995)                 Sudden Death (1995)   \n",
      "9                    GoldenEye (1995)                    GoldenEye (1995)   \n",
      "\n",
      "                                         Genre_Based  \\\n",
      "0                                        Antz (1998)   \n",
      "1                                 Toy Story 2 (1999)   \n",
      "2     Adventures of Rocky and Bullwinkle, The (2000)   \n",
      "3                   Emperor's New Groove, The (2000)   \n",
      "4                              Monsters, Inc. (2001)   \n",
      "5  DuckTales: The Movie - Treasure of the Lost La...   \n",
      "6                                   Wild, The (2006)   \n",
      "7                             Shrek the Third (2007)   \n",
      "8                     Tale of Despereaux, The (2008)   \n",
      "9  Asterix and the Vikings (Astérix et les Viking...   \n",
      "\n",
      "                                 NER_Based  \\\n",
      "0        Toy Story That Time Forgot (2014)   \n",
      "1        Toy Story Toons: Small Fry (2011)   \n",
      "2  Toy Story Toons: Partysaurus Rex (2012)   \n",
      "3                       Toy Masters (2014)   \n",
      "4                       The Toy Box (1971)   \n",
      "5                      The Toy Wife (1938)   \n",
      "6                 Waiting to Exhale (1995)   \n",
      "7                              Heat (1995)   \n",
      "8                            Casino (1995)   \n",
      "9                       Money Train (1995)   \n",
      "\n",
      "                                  Weighted_Genre_NER  \\\n",
      "0                  Toy Story Toons: Small Fry (2011)   \n",
      "1                                        Antz (1998)   \n",
      "2                                 Toy Story 2 (1999)   \n",
      "3     Adventures of Rocky and Bullwinkle, The (2000)   \n",
      "4                   Emperor's New Groove, The (2000)   \n",
      "5                              Monsters, Inc. (2001)   \n",
      "6  DuckTales: The Movie - Treasure of the Lost La...   \n",
      "7                                   Wild, The (2006)   \n",
      "8                             Shrek the Third (2007)   \n",
      "9                     Tale of Despereaux, The (2008)   \n",
      "\n",
      "                                        Final_Hybrid  \n",
      "0                              Monsters, Inc. (2001)  \n",
      "1                                 Toy Story 2 (1999)  \n",
      "2                   Emperor's New Groove, The (2000)  \n",
      "3                                        Antz (1998)  \n",
      "4  Asterix and the Vikings (Astérix et les Viking...  \n",
      "5                             Shrek the Third (2007)  \n",
      "6  DuckTales: The Movie - Treasure of the Lost La...  \n",
      "7                     Tale of Despereaux, The (2008)  \n",
      "8                                   Wild, The (2006)  \n",
      "9     Adventures of Rocky and Bullwinkle, The (2000)  \n"
     ]
    }
   ],
   "source": [
    "\n",
    "# Example usage\n",
    "user_id = random.randint(65001, 65011)  # Example user ID for demonstration\n",
    "movie_idx = 0  # Index for \"Toy Story\" in the movies DataFrame\n",
    "\n",
    "# Generate and compile the recommendation results\n",
    "recommendation_results = compile_recommendation_results(user_id, movie_idx, movies, algo, classifier, n=10)\n",
    "print(recommendation_results)\n"
   ]
  },
  {
   "cell_type": "code",
   "execution_count": 96,
   "metadata": {
    "scrolled": true
   },
   "outputs": [
    {
     "data": {
      "text/html": [
       "<div>\n",
       "<style scoped>\n",
       "    .dataframe tbody tr th:only-of-type {\n",
       "        vertical-align: middle;\n",
       "    }\n",
       "\n",
       "    .dataframe tbody tr th {\n",
       "        vertical-align: top;\n",
       "    }\n",
       "\n",
       "    .dataframe thead th {\n",
       "        text-align: right;\n",
       "    }\n",
       "</style>\n",
       "<table border=\"1\" class=\"dataframe\">\n",
       "  <thead>\n",
       "    <tr style=\"text-align: right;\">\n",
       "      <th></th>\n",
       "      <th>SVD</th>\n",
       "      <th>SVD_Sentiment</th>\n",
       "      <th>Genre_Based</th>\n",
       "      <th>NER_Based</th>\n",
       "      <th>Weighted_Genre_NER</th>\n",
       "      <th>Final_Hybrid</th>\n",
       "    </tr>\n",
       "  </thead>\n",
       "  <tbody>\n",
       "    <tr>\n",
       "      <th>0</th>\n",
       "      <td>Toy Story (1995)</td>\n",
       "      <td>Toy Story (1995)</td>\n",
       "      <td>Antz (1998)</td>\n",
       "      <td>Toy Story That Time Forgot (2014)</td>\n",
       "      <td>Toy Story Toons: Small Fry (2011)</td>\n",
       "      <td>Monsters, Inc. (2001)</td>\n",
       "    </tr>\n",
       "    <tr>\n",
       "      <th>1</th>\n",
       "      <td>Jumanji (1995)</td>\n",
       "      <td>Jumanji (1995)</td>\n",
       "      <td>Toy Story 2 (1999)</td>\n",
       "      <td>Toy Story Toons: Small Fry (2011)</td>\n",
       "      <td>Antz (1998)</td>\n",
       "      <td>Toy Story 2 (1999)</td>\n",
       "    </tr>\n",
       "    <tr>\n",
       "      <th>2</th>\n",
       "      <td>Grumpier Old Men (1995)</td>\n",
       "      <td>Grumpier Old Men (1995)</td>\n",
       "      <td>Adventures of Rocky and Bullwinkle, The (2000)</td>\n",
       "      <td>Toy Story Toons: Partysaurus Rex (2012)</td>\n",
       "      <td>Toy Story 2 (1999)</td>\n",
       "      <td>Emperor's New Groove, The (2000)</td>\n",
       "    </tr>\n",
       "    <tr>\n",
       "      <th>3</th>\n",
       "      <td>Waiting to Exhale (1995)</td>\n",
       "      <td>Waiting to Exhale (1995)</td>\n",
       "      <td>Emperor's New Groove, The (2000)</td>\n",
       "      <td>Toy Masters (2014)</td>\n",
       "      <td>Adventures of Rocky and Bullwinkle, The (2000)</td>\n",
       "      <td>Antz (1998)</td>\n",
       "    </tr>\n",
       "    <tr>\n",
       "      <th>4</th>\n",
       "      <td>Father of the Bride Part II (1995)</td>\n",
       "      <td>Father of the Bride Part II (1995)</td>\n",
       "      <td>Monsters, Inc. (2001)</td>\n",
       "      <td>The Toy Box (1971)</td>\n",
       "      <td>Emperor's New Groove, The (2000)</td>\n",
       "      <td>Asterix and the Vikings (Astérix et les Viking...</td>\n",
       "    </tr>\n",
       "    <tr>\n",
       "      <th>5</th>\n",
       "      <td>Heat (1995)</td>\n",
       "      <td>Heat (1995)</td>\n",
       "      <td>DuckTales: The Movie - Treasure of the Lost La...</td>\n",
       "      <td>The Toy Wife (1938)</td>\n",
       "      <td>Monsters, Inc. (2001)</td>\n",
       "      <td>Shrek the Third (2007)</td>\n",
       "    </tr>\n",
       "    <tr>\n",
       "      <th>6</th>\n",
       "      <td>Sabrina (1995)</td>\n",
       "      <td>Sabrina (1995)</td>\n",
       "      <td>Wild, The (2006)</td>\n",
       "      <td>Waiting to Exhale (1995)</td>\n",
       "      <td>DuckTales: The Movie - Treasure of the Lost La...</td>\n",
       "      <td>DuckTales: The Movie - Treasure of the Lost La...</td>\n",
       "    </tr>\n",
       "    <tr>\n",
       "      <th>7</th>\n",
       "      <td>Tom and Huck (1995)</td>\n",
       "      <td>Tom and Huck (1995)</td>\n",
       "      <td>Shrek the Third (2007)</td>\n",
       "      <td>Heat (1995)</td>\n",
       "      <td>Wild, The (2006)</td>\n",
       "      <td>Tale of Despereaux, The (2008)</td>\n",
       "    </tr>\n",
       "    <tr>\n",
       "      <th>8</th>\n",
       "      <td>Sudden Death (1995)</td>\n",
       "      <td>Sudden Death (1995)</td>\n",
       "      <td>Tale of Despereaux, The (2008)</td>\n",
       "      <td>Casino (1995)</td>\n",
       "      <td>Shrek the Third (2007)</td>\n",
       "      <td>Wild, The (2006)</td>\n",
       "    </tr>\n",
       "    <tr>\n",
       "      <th>9</th>\n",
       "      <td>GoldenEye (1995)</td>\n",
       "      <td>GoldenEye (1995)</td>\n",
       "      <td>Asterix and the Vikings (Astérix et les Viking...</td>\n",
       "      <td>Money Train (1995)</td>\n",
       "      <td>Tale of Despereaux, The (2008)</td>\n",
       "      <td>Adventures of Rocky and Bullwinkle, The (2000)</td>\n",
       "    </tr>\n",
       "  </tbody>\n",
       "</table>\n",
       "</div>"
      ],
      "text/plain": [
       "                                  SVD                       SVD_Sentiment  \\\n",
       "0                    Toy Story (1995)                    Toy Story (1995)   \n",
       "1                      Jumanji (1995)                      Jumanji (1995)   \n",
       "2             Grumpier Old Men (1995)             Grumpier Old Men (1995)   \n",
       "3            Waiting to Exhale (1995)            Waiting to Exhale (1995)   \n",
       "4  Father of the Bride Part II (1995)  Father of the Bride Part II (1995)   \n",
       "5                         Heat (1995)                         Heat (1995)   \n",
       "6                      Sabrina (1995)                      Sabrina (1995)   \n",
       "7                 Tom and Huck (1995)                 Tom and Huck (1995)   \n",
       "8                 Sudden Death (1995)                 Sudden Death (1995)   \n",
       "9                    GoldenEye (1995)                    GoldenEye (1995)   \n",
       "\n",
       "                                         Genre_Based  \\\n",
       "0                                        Antz (1998)   \n",
       "1                                 Toy Story 2 (1999)   \n",
       "2     Adventures of Rocky and Bullwinkle, The (2000)   \n",
       "3                   Emperor's New Groove, The (2000)   \n",
       "4                              Monsters, Inc. (2001)   \n",
       "5  DuckTales: The Movie - Treasure of the Lost La...   \n",
       "6                                   Wild, The (2006)   \n",
       "7                             Shrek the Third (2007)   \n",
       "8                     Tale of Despereaux, The (2008)   \n",
       "9  Asterix and the Vikings (Astérix et les Viking...   \n",
       "\n",
       "                                 NER_Based  \\\n",
       "0        Toy Story That Time Forgot (2014)   \n",
       "1        Toy Story Toons: Small Fry (2011)   \n",
       "2  Toy Story Toons: Partysaurus Rex (2012)   \n",
       "3                       Toy Masters (2014)   \n",
       "4                       The Toy Box (1971)   \n",
       "5                      The Toy Wife (1938)   \n",
       "6                 Waiting to Exhale (1995)   \n",
       "7                              Heat (1995)   \n",
       "8                            Casino (1995)   \n",
       "9                       Money Train (1995)   \n",
       "\n",
       "                                  Weighted_Genre_NER  \\\n",
       "0                  Toy Story Toons: Small Fry (2011)   \n",
       "1                                        Antz (1998)   \n",
       "2                                 Toy Story 2 (1999)   \n",
       "3     Adventures of Rocky and Bullwinkle, The (2000)   \n",
       "4                   Emperor's New Groove, The (2000)   \n",
       "5                              Monsters, Inc. (2001)   \n",
       "6  DuckTales: The Movie - Treasure of the Lost La...   \n",
       "7                                   Wild, The (2006)   \n",
       "8                             Shrek the Third (2007)   \n",
       "9                     Tale of Despereaux, The (2008)   \n",
       "\n",
       "                                        Final_Hybrid  \n",
       "0                              Monsters, Inc. (2001)  \n",
       "1                                 Toy Story 2 (1999)  \n",
       "2                   Emperor's New Groove, The (2000)  \n",
       "3                                        Antz (1998)  \n",
       "4  Asterix and the Vikings (Astérix et les Viking...  \n",
       "5                             Shrek the Third (2007)  \n",
       "6  DuckTales: The Movie - Treasure of the Lost La...  \n",
       "7                     Tale of Despereaux, The (2008)  \n",
       "8                                   Wild, The (2006)  \n",
       "9     Adventures of Rocky and Bullwinkle, The (2000)  "
      ]
     },
     "execution_count": 96,
     "metadata": {},
     "output_type": "execute_result"
    }
   ],
   "source": [
    "recommendation_results.head(10)"
   ]
  },
  {
   "cell_type": "code",
   "execution_count": 97,
   "metadata": {},
   "outputs": [
    {
     "data": {
      "text/html": [
       "<div>\n",
       "<style scoped>\n",
       "    .dataframe tbody tr th:only-of-type {\n",
       "        vertical-align: middle;\n",
       "    }\n",
       "\n",
       "    .dataframe tbody tr th {\n",
       "        vertical-align: top;\n",
       "    }\n",
       "\n",
       "    .dataframe thead th {\n",
       "        text-align: right;\n",
       "    }\n",
       "</style>\n",
       "<table border=\"1\" class=\"dataframe\">\n",
       "  <thead>\n",
       "    <tr style=\"text-align: right;\">\n",
       "      <th></th>\n",
       "      <th>SVD</th>\n",
       "      <th>SVD_Sentiment</th>\n",
       "      <th>Genre_Based</th>\n",
       "      <th>NER_Based</th>\n",
       "      <th>Weighted_Genre_NER</th>\n",
       "      <th>Final_Hybrid</th>\n",
       "    </tr>\n",
       "  </thead>\n",
       "  <tbody>\n",
       "    <tr>\n",
       "      <th>0</th>\n",
       "      <td>Toy Story (1995)</td>\n",
       "      <td>Toy Story (1995)</td>\n",
       "      <td>Independence Day (a.k.a. ID4) (1996)</td>\n",
       "      <td>Star Trek: Renegades (2015)</td>\n",
       "      <td>Independence Day (a.k.a. ID4) (1996)</td>\n",
       "      <td>Star Trek: First Contact (1996)</td>\n",
       "    </tr>\n",
       "    <tr>\n",
       "      <th>1</th>\n",
       "      <td>Jumanji (1995)</td>\n",
       "      <td>Jumanji (1995)</td>\n",
       "      <td>Escape from L.A. (1996)</td>\n",
       "      <td>Star Trek (2009)</td>\n",
       "      <td>Escape from L.A. (1996)</td>\n",
       "      <td>Star Trek II: The Wrath of Khan (1982)</td>\n",
       "    </tr>\n",
       "    <tr>\n",
       "      <th>2</th>\n",
       "      <td>Grumpier Old Men (1995)</td>\n",
       "      <td>Grumpier Old Men (1995)</td>\n",
       "      <td>Abyss, The (1989)</td>\n",
       "      <td>Building Star Trek (2016)</td>\n",
       "      <td>Abyss, The (1989)</td>\n",
       "      <td>Abyss, The (1989)</td>\n",
       "    </tr>\n",
       "    <tr>\n",
       "      <th>3</th>\n",
       "      <td>Waiting to Exhale (1995)</td>\n",
       "      <td>Waiting to Exhale (1995)</td>\n",
       "      <td>Escape from New York (1981)</td>\n",
       "      <td>Star Trek: Generations (1994)</td>\n",
       "      <td>Escape from New York (1981)</td>\n",
       "      <td>Total Recall (1990)</td>\n",
       "    </tr>\n",
       "    <tr>\n",
       "      <th>4</th>\n",
       "      <td>Father of the Bride Part II (1995)</td>\n",
       "      <td>Father of the Bride Part II (1995)</td>\n",
       "      <td>Star Trek: First Contact (1996)</td>\n",
       "      <td>Star Trek: Nemesis (2002)</td>\n",
       "      <td>Star Trek: First Contact (1996)</td>\n",
       "      <td>Moonraker (1979)</td>\n",
       "    </tr>\n",
       "    <tr>\n",
       "      <th>5</th>\n",
       "      <td>Heat (1995)</td>\n",
       "      <td>Heat (1995)</td>\n",
       "      <td>Star Trek II: The Wrath of Khan (1982)</td>\n",
       "      <td>Star Trek: Insurrection (1998)</td>\n",
       "      <td>Star Trek II: The Wrath of Khan (1982)</td>\n",
       "      <td>Independence Day (a.k.a. ID4) (1996)</td>\n",
       "    </tr>\n",
       "    <tr>\n",
       "      <th>6</th>\n",
       "      <td>Sabrina (1995)</td>\n",
       "      <td>Sabrina (1995)</td>\n",
       "      <td>Lost World: Jurassic Park, The (1997)</td>\n",
       "      <td>Star Trek Into Darkness (2013)</td>\n",
       "      <td>Lost World: Jurassic Park, The (1997)</td>\n",
       "      <td>Lost World: Jurassic Park, The (1997)</td>\n",
       "    </tr>\n",
       "    <tr>\n",
       "      <th>7</th>\n",
       "      <td>Tom and Huck (1995)</td>\n",
       "      <td>Tom and Huck (1995)</td>\n",
       "      <td>Spawn (1997)</td>\n",
       "      <td>Star Trek: The Motion Picture (1979)</td>\n",
       "      <td>Spawn (1997)</td>\n",
       "      <td>Escape from New York (1981)</td>\n",
       "    </tr>\n",
       "    <tr>\n",
       "      <th>8</th>\n",
       "      <td>Sudden Death (1995)</td>\n",
       "      <td>Sudden Death (1995)</td>\n",
       "      <td>Total Recall (1990)</td>\n",
       "      <td>Star Trek: Of Gods and Men (2007)</td>\n",
       "      <td>Total Recall (1990)</td>\n",
       "      <td>Spawn (1997)</td>\n",
       "    </tr>\n",
       "    <tr>\n",
       "      <th>9</th>\n",
       "      <td>GoldenEye (1995)</td>\n",
       "      <td>GoldenEye (1995)</td>\n",
       "      <td>Moonraker (1979)</td>\n",
       "      <td>Star Trek Beyond (2016)</td>\n",
       "      <td>Moonraker (1979)</td>\n",
       "      <td>Escape from L.A. (1996)</td>\n",
       "    </tr>\n",
       "  </tbody>\n",
       "</table>\n",
       "</div>"
      ],
      "text/plain": [
       "                                  SVD                       SVD_Sentiment  \\\n",
       "0                    Toy Story (1995)                    Toy Story (1995)   \n",
       "1                      Jumanji (1995)                      Jumanji (1995)   \n",
       "2             Grumpier Old Men (1995)             Grumpier Old Men (1995)   \n",
       "3            Waiting to Exhale (1995)            Waiting to Exhale (1995)   \n",
       "4  Father of the Bride Part II (1995)  Father of the Bride Part II (1995)   \n",
       "5                         Heat (1995)                         Heat (1995)   \n",
       "6                      Sabrina (1995)                      Sabrina (1995)   \n",
       "7                 Tom and Huck (1995)                 Tom and Huck (1995)   \n",
       "8                 Sudden Death (1995)                 Sudden Death (1995)   \n",
       "9                    GoldenEye (1995)                    GoldenEye (1995)   \n",
       "\n",
       "                              Genre_Based  \\\n",
       "0    Independence Day (a.k.a. ID4) (1996)   \n",
       "1                 Escape from L.A. (1996)   \n",
       "2                       Abyss, The (1989)   \n",
       "3             Escape from New York (1981)   \n",
       "4         Star Trek: First Contact (1996)   \n",
       "5  Star Trek II: The Wrath of Khan (1982)   \n",
       "6   Lost World: Jurassic Park, The (1997)   \n",
       "7                            Spawn (1997)   \n",
       "8                     Total Recall (1990)   \n",
       "9                        Moonraker (1979)   \n",
       "\n",
       "                              NER_Based  \\\n",
       "0           Star Trek: Renegades (2015)   \n",
       "1                      Star Trek (2009)   \n",
       "2             Building Star Trek (2016)   \n",
       "3         Star Trek: Generations (1994)   \n",
       "4             Star Trek: Nemesis (2002)   \n",
       "5        Star Trek: Insurrection (1998)   \n",
       "6        Star Trek Into Darkness (2013)   \n",
       "7  Star Trek: The Motion Picture (1979)   \n",
       "8     Star Trek: Of Gods and Men (2007)   \n",
       "9               Star Trek Beyond (2016)   \n",
       "\n",
       "                       Weighted_Genre_NER  \\\n",
       "0    Independence Day (a.k.a. ID4) (1996)   \n",
       "1                 Escape from L.A. (1996)   \n",
       "2                       Abyss, The (1989)   \n",
       "3             Escape from New York (1981)   \n",
       "4         Star Trek: First Contact (1996)   \n",
       "5  Star Trek II: The Wrath of Khan (1982)   \n",
       "6   Lost World: Jurassic Park, The (1997)   \n",
       "7                            Spawn (1997)   \n",
       "8                     Total Recall (1990)   \n",
       "9                        Moonraker (1979)   \n",
       "\n",
       "                             Final_Hybrid  \n",
       "0         Star Trek: First Contact (1996)  \n",
       "1  Star Trek II: The Wrath of Khan (1982)  \n",
       "2                       Abyss, The (1989)  \n",
       "3                     Total Recall (1990)  \n",
       "4                        Moonraker (1979)  \n",
       "5    Independence Day (a.k.a. ID4) (1996)  \n",
       "6   Lost World: Jurassic Park, The (1997)  \n",
       "7             Escape from New York (1981)  \n",
       "8                            Spawn (1997)  \n",
       "9                 Escape from L.A. (1996)  "
      ]
     },
     "execution_count": 97,
     "metadata": {},
     "output_type": "execute_result"
    }
   ],
   "source": [
    "# Example usage\n",
    "user_id = random.randint(65001, 65011)  # Example user ID for demonstration\n",
    "movie_idx = 1321  # \n",
    "\n",
    "# Generate and compile the recommendation results\n",
    "recommendation_results1 = compile_recommendation_results(user_id, movie_idx, movies, algo, classifier, n=10)\n",
    "recommendation_results1.head(15)"
   ]
  },
  {
   "cell_type": "code",
   "execution_count": null,
   "metadata": {},
   "outputs": [],
   "source": []
  },
  {
   "cell_type": "markdown",
   "metadata": {},
   "source": [
    "## EXPERIEMENTATON REFERENCES with CONTENT BASED & NLP NER"
   ]
  },
  {
   "cell_type": "code",
   "execution_count": 61,
   "metadata": {},
   "outputs": [],
   "source": [
    "# Combine genres and named entities into a single feature set in temp_movies\n",
    "temp_movies['combined_features'] = temp_movies['genres'] + ' ' + temp_movies['title_entities']\n"
   ]
  },
  {
   "cell_type": "code",
   "execution_count": 62,
   "metadata": {},
   "outputs": [
    {
     "data": {
      "text/html": [
       "<div>\n",
       "<style scoped>\n",
       "    .dataframe tbody tr th:only-of-type {\n",
       "        vertical-align: middle;\n",
       "    }\n",
       "\n",
       "    .dataframe tbody tr th {\n",
       "        vertical-align: top;\n",
       "    }\n",
       "\n",
       "    .dataframe thead th {\n",
       "        text-align: right;\n",
       "    }\n",
       "</style>\n",
       "<table border=\"1\" class=\"dataframe\">\n",
       "  <thead>\n",
       "    <tr style=\"text-align: right;\">\n",
       "      <th></th>\n",
       "      <th>movieId</th>\n",
       "      <th>title</th>\n",
       "      <th>genres</th>\n",
       "      <th>title_entities</th>\n",
       "      <th>combined_features</th>\n",
       "    </tr>\n",
       "  </thead>\n",
       "  <tbody>\n",
       "    <tr>\n",
       "      <th>0</th>\n",
       "      <td>1</td>\n",
       "      <td>Toy Story (1995)</td>\n",
       "      <td>Adventure|Animation|Children|Comedy|Fantasy</td>\n",
       "      <td>Toy Story 1995</td>\n",
       "      <td>Adventure|Animation|Children|Comedy|Fantasy To...</td>\n",
       "    </tr>\n",
       "    <tr>\n",
       "      <th>1</th>\n",
       "      <td>2</td>\n",
       "      <td>Jumanji (1995)</td>\n",
       "      <td>Adventure|Children|Fantasy</td>\n",
       "      <td>Jumanji 1995</td>\n",
       "      <td>Adventure|Children|Fantasy Jumanji 1995</td>\n",
       "    </tr>\n",
       "    <tr>\n",
       "      <th>2</th>\n",
       "      <td>3</td>\n",
       "      <td>Grumpier Old Men (1995)</td>\n",
       "      <td>Comedy|Romance</td>\n",
       "      <td>Grumpier Old Men 1995</td>\n",
       "      <td>Comedy|Romance Grumpier Old Men 1995</td>\n",
       "    </tr>\n",
       "    <tr>\n",
       "      <th>3</th>\n",
       "      <td>4</td>\n",
       "      <td>Waiting to Exhale (1995)</td>\n",
       "      <td>Comedy|Drama|Romance</td>\n",
       "      <td>1995</td>\n",
       "      <td>Comedy|Drama|Romance 1995</td>\n",
       "    </tr>\n",
       "    <tr>\n",
       "      <th>4</th>\n",
       "      <td>5</td>\n",
       "      <td>Father of the Bride Part II (1995)</td>\n",
       "      <td>Comedy</td>\n",
       "      <td></td>\n",
       "      <td>Comedy</td>\n",
       "    </tr>\n",
       "    <tr>\n",
       "      <th>5</th>\n",
       "      <td>6</td>\n",
       "      <td>Heat (1995)</td>\n",
       "      <td>Action|Crime|Thriller</td>\n",
       "      <td>1995</td>\n",
       "      <td>Action|Crime|Thriller 1995</td>\n",
       "    </tr>\n",
       "    <tr>\n",
       "      <th>6</th>\n",
       "      <td>7</td>\n",
       "      <td>Sabrina (1995)</td>\n",
       "      <td>Comedy|Romance</td>\n",
       "      <td>Sabrina 1995</td>\n",
       "      <td>Comedy|Romance Sabrina 1995</td>\n",
       "    </tr>\n",
       "    <tr>\n",
       "      <th>7</th>\n",
       "      <td>8</td>\n",
       "      <td>Tom and Huck (1995)</td>\n",
       "      <td>Adventure|Children</td>\n",
       "      <td>Tom Huck 1995</td>\n",
       "      <td>Adventure|Children Tom Huck 1995</td>\n",
       "    </tr>\n",
       "    <tr>\n",
       "      <th>8</th>\n",
       "      <td>9</td>\n",
       "      <td>Sudden Death (1995)</td>\n",
       "      <td>Action</td>\n",
       "      <td>Sudden Death</td>\n",
       "      <td>Action Sudden Death</td>\n",
       "    </tr>\n",
       "    <tr>\n",
       "      <th>9</th>\n",
       "      <td>10</td>\n",
       "      <td>GoldenEye (1995)</td>\n",
       "      <td>Action|Adventure|Thriller</td>\n",
       "      <td>GoldenEye 1995</td>\n",
       "      <td>Action|Adventure|Thriller GoldenEye 1995</td>\n",
       "    </tr>\n",
       "  </tbody>\n",
       "</table>\n",
       "</div>"
      ],
      "text/plain": [
       "   movieId                               title  \\\n",
       "0        1                    Toy Story (1995)   \n",
       "1        2                      Jumanji (1995)   \n",
       "2        3             Grumpier Old Men (1995)   \n",
       "3        4            Waiting to Exhale (1995)   \n",
       "4        5  Father of the Bride Part II (1995)   \n",
       "5        6                         Heat (1995)   \n",
       "6        7                      Sabrina (1995)   \n",
       "7        8                 Tom and Huck (1995)   \n",
       "8        9                 Sudden Death (1995)   \n",
       "9       10                    GoldenEye (1995)   \n",
       "\n",
       "                                        genres         title_entities  \\\n",
       "0  Adventure|Animation|Children|Comedy|Fantasy         Toy Story 1995   \n",
       "1                   Adventure|Children|Fantasy           Jumanji 1995   \n",
       "2                               Comedy|Romance  Grumpier Old Men 1995   \n",
       "3                         Comedy|Drama|Romance                   1995   \n",
       "4                                       Comedy                          \n",
       "5                        Action|Crime|Thriller                   1995   \n",
       "6                               Comedy|Romance           Sabrina 1995   \n",
       "7                           Adventure|Children          Tom Huck 1995   \n",
       "8                                       Action           Sudden Death   \n",
       "9                    Action|Adventure|Thriller         GoldenEye 1995   \n",
       "\n",
       "                                   combined_features  \n",
       "0  Adventure|Animation|Children|Comedy|Fantasy To...  \n",
       "1            Adventure|Children|Fantasy Jumanji 1995  \n",
       "2               Comedy|Romance Grumpier Old Men 1995  \n",
       "3                          Comedy|Drama|Romance 1995  \n",
       "4                                            Comedy   \n",
       "5                         Action|Crime|Thriller 1995  \n",
       "6                        Comedy|Romance Sabrina 1995  \n",
       "7                   Adventure|Children Tom Huck 1995  \n",
       "8                                Action Sudden Death  \n",
       "9           Action|Adventure|Thriller GoldenEye 1995  "
      ]
     },
     "execution_count": 62,
     "metadata": {},
     "output_type": "execute_result"
    }
   ],
   "source": [
    "temp_movies.head(10)"
   ]
  },
  {
   "cell_type": "code",
   "execution_count": 63,
   "metadata": {},
   "outputs": [],
   "source": [
    "tfidf_vectorizer_combined = TfidfVectorizer(token_pattern='\\\\b\\\\w+\\\\b')\n",
    "tfidf_matrix_combined = tfidf_vectorizer_combined.fit_transform(temp_movies['combined_features'])\n"
   ]
  },
  {
   "cell_type": "code",
   "execution_count": 65,
   "metadata": {},
   "outputs": [],
   "source": [
    "from sklearn.decomposition import TruncatedSVD"
   ]
  },
  {
   "cell_type": "code",
   "execution_count": 66,
   "metadata": {},
   "outputs": [],
   "source": [
    "# Reduce the dimensionality of the TF-IDF matrix\n",
    "svd = TruncatedSVD(n_components=100)  # Adjust n_components based on your dataset and available memory\n",
    "reduced_tfidf_matrix = svd.fit_transform(tfidf_matrix_combined)"
   ]
  },
  {
   "cell_type": "code",
   "execution_count": 67,
   "metadata": {},
   "outputs": [],
   "source": [
    "def combined_content_based_recommendations(movie_index, reduced_tfidf_matrix, temp_movies, n=10):\n",
    "    # Compute cosine similarity for the selected movie against all others, using the reduced feature set\n",
    "    cosine_sim = cosine_similarity(reduced_tfidf_matrix[movie_index:movie_index+1], reduced_tfidf_matrix).flatten()\n",
    "    \n",
    "    # Get the indices of the top n similar movies\n",
    "    top_indices = cosine_sim.argsort()[-n-1:-1][::-1]  # Skip the first one as it will be the movie itself\n",
    "    \n",
    "    # Return the top n most similar movies\n",
    "    return temp_movies.iloc[top_indices][['title', 'genres', 'title_entities']]\n"
   ]
  },
  {
   "cell_type": "code",
   "execution_count": 68,
   "metadata": {},
   "outputs": [
    {
     "name": "stdout",
     "output_type": "stream",
     "text": [
      "Recommendations using combined genre and NER features with reduced dimensionality:\n",
      "Thief and the Cobbler, The (a.k.a. Arabian Knight) (1995) - Genres: Adventure|Animation|Comedy|Fantasy, Named Entities: Cobbler Arabian Knight 1995\n",
      "The Wind in the Willows (1995) - Genres: Adventure|Animation|Children|Comedy, Named Entities: 1995\n",
      "Jumanji (1995) - Genres: Adventure|Children|Fantasy, Named Entities: Jumanji 1995\n",
      "Indian in the Cupboard, The (1995) - Genres: Adventure|Children|Fantasy, Named Entities: Indian Cupboard 1995\n",
      "Balto (1995) - Genres: Adventure|Animation|Children, Named Entities: Balto 1995\n",
      "Kid in King Arthur's Court, A (1995) - Genres: Adventure|Children|Comedy|Fantasy|Romance, Named Entities: Court 1995\n",
      "Kids of the Round Table (1995) - Genres: Adventure|Children|Comedy|Fantasy, Named Entities: the Round Table 1995\n",
      "Slayers: The Motion Picture (1995) - Genres: Adventure|Animation|Comedy|Fantasy, Named Entities: The Motion Picture 1995\n",
      "Gordy (1995) - Genres: Children|Comedy|Fantasy, Named Entities: Gordy 1995\n",
      "Ninja Scroll (Jûbei ninpûchô) (1995) - Genres: Action|Adventure|Animation|Fantasy, Named Entities: Jûbei 1995\n"
     ]
    }
   ],
   "source": [
    "movie_index = 0  # Example index of a movie from temp_movies\n",
    "\n",
    "# Generate recommendations using the combined features with reduced dimensionality\n",
    "combined_recommendations = combined_content_based_recommendations(movie_index, reduced_tfidf_matrix, temp_movies, n=10)\n",
    "print(\"Recommendations using combined genre and NER features with reduced dimensionality:\")\n",
    "for index, row in combined_recommendations.iterrows():\n",
    "    print(f\"{row['title']} - Genres: {row['genres']}, Named Entities: {row['title_entities']}\")\n"
   ]
  },
  {
   "cell_type": "code",
   "execution_count": null,
   "metadata": {},
   "outputs": [],
   "source": []
  },
  {
   "cell_type": "code",
   "execution_count": 69,
   "metadata": {},
   "outputs": [],
   "source": [
    "# from sklearn.metrics.pairwise import cosine_similarity\n",
    "\n",
    "# cosine_sim_combined = cosine_similarity(tfidf_matrix_combined, tfidf_matrix_combined)"
   ]
  },
  {
   "cell_type": "code",
   "execution_count": null,
   "metadata": {},
   "outputs": [],
   "source": [
    "# def combined_content_based_recommendations(movie_index, cosine_sim, temp_movies, n=10):\n",
    "#     sim_scores = list(enumerate(cosine_sim[movie_index]))\n",
    "#     sim_scores = sorted(sim_scores, key=lambda x: x[1], reverse=True)\n",
    "#     sim_scores = sim_scores[1:n+1]  # Exclude self\n",
    "#     movie_indices = [i[0] for i in sim_scores]\n",
    "#     return temp_movies.iloc[movie_indices][['title', 'genres', 'title_entities']]\n"
   ]
  },
  {
   "cell_type": "code",
   "execution_count": null,
   "metadata": {},
   "outputs": [],
   "source": []
  },
  {
   "cell_type": "code",
   "execution_count": 101,
   "metadata": {},
   "outputs": [
    {
     "data": {
      "text/plain": [
       "2356"
      ]
     },
     "execution_count": 101,
     "metadata": {},
     "output_type": "execute_result"
    }
   ],
   "source": [
    "# # Cleanup to free memory after recommendations, if necessary\n",
    "# gc.collect()\n"
   ]
  },
  {
   "cell_type": "code",
   "execution_count": null,
   "metadata": {},
   "outputs": [],
   "source": []
  },
  {
   "cell_type": "code",
   "execution_count": null,
   "metadata": {},
   "outputs": [],
   "source": []
  }
 ],
 "metadata": {
  "colab": {
   "provenance": []
  },
  "kernelspec": {
   "display_name": "Python 3 (ipykernel)",
   "language": "python",
   "name": "python3"
  },
  "language_info": {
   "codemirror_mode": {
    "name": "ipython",
    "version": 3
   },
   "file_extension": ".py",
   "mimetype": "text/x-python",
   "name": "python",
   "nbconvert_exporter": "python",
   "pygments_lexer": "ipython3",
   "version": "3.9.7"
  }
 },
 "nbformat": 4,
 "nbformat_minor": 1
}
